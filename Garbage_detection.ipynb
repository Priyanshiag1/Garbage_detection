{
  "cells": [
    {
      "cell_type": "code",
      "execution_count": 10,
      "metadata": {
        "colab": {
          "base_uri": "https://localhost:8080/"
        },
        "id": "U7rcK8B-KWLm",
        "outputId": "6249c03f-61d9-43ef-8098-620125bcca50"
      },
      "outputs": [
        {
          "output_type": "stream",
          "name": "stdout",
          "text": [
            "Mounted at /content/drive\n"
          ]
        }
      ],
      "source": [
        "from google.colab import drive\n",
        "drive.mount('/content/drive')"
      ]
    },
    {
      "cell_type": "code",
      "execution_count": null,
      "metadata": {
        "colab": {
          "base_uri": "https://localhost:8080/"
        },
        "id": "XOTILkwYhk3T",
        "outputId": "5d3d2d21-bc7d-4a97-a5e7-9dbd43760ca2"
      },
      "outputs": [
        {
          "name": "stdout",
          "output_type": "stream",
          "text": [
            "✅ Dataset extracted to: /content/dataset\n",
            "Folders: ['valid', 'train', 'README.dataset.txt', 'test', 'README.roboflow.txt', 'data.yaml']\n"
          ]
        }
      ],
      "source": [
        "import zipfile, os\n",
        "\n",
        "# Path jaha tumhara dataset pada hai\n",
        "zip_path = \"/content/drive/MyDrive/Garbage Detection.v1i.yolov8.zip\"\n",
        "\n",
        "# Extract folder\n",
        "extract_path = \"/content/dataset\"\n",
        "\n",
        "# Extract zip file\n",
        "with zipfile.ZipFile(zip_path, 'r') as zip_ref:\n",
        "    zip_ref.extractall(extract_path)\n",
        "\n",
        "print(\"✅ Dataset extracted to:\", extract_path)\n",
        "print(\"Folders:\", os.listdir(extract_path))"
      ]
    },
    {
      "cell_type": "code",
      "execution_count": 8,
      "metadata": {
        "colab": {
          "base_uri": "https://localhost:8080/"
        },
        "id": "gSwDfw_Iivep",
        "outputId": "58a0ec5c-0cc2-4d3d-da45-9210d258e10f"
      },
      "outputs": [
        {
          "output_type": "stream",
          "name": "stdout",
          "text": [
            "Collecting ultralytics\n",
            "  Downloading ultralytics-8.3.182-py3-none-any.whl.metadata (37 kB)\n",
            "Requirement already satisfied: numpy>=1.23.0 in /usr/local/lib/python3.12/dist-packages (from ultralytics) (2.0.2)\n",
            "Requirement already satisfied: matplotlib>=3.3.0 in /usr/local/lib/python3.12/dist-packages (from ultralytics) (3.10.0)\n",
            "Requirement already satisfied: opencv-python>=4.6.0 in /usr/local/lib/python3.12/dist-packages (from ultralytics) (4.12.0.88)\n",
            "Requirement already satisfied: pillow>=7.1.2 in /usr/local/lib/python3.12/dist-packages (from ultralytics) (11.3.0)\n",
            "Requirement already satisfied: pyyaml>=5.3.1 in /usr/local/lib/python3.12/dist-packages (from ultralytics) (6.0.2)\n",
            "Requirement already satisfied: requests>=2.23.0 in /usr/local/lib/python3.12/dist-packages (from ultralytics) (2.32.4)\n",
            "Requirement already satisfied: scipy>=1.4.1 in /usr/local/lib/python3.12/dist-packages (from ultralytics) (1.16.1)\n",
            "Requirement already satisfied: torch>=1.8.0 in /usr/local/lib/python3.12/dist-packages (from ultralytics) (2.8.0+cu126)\n",
            "Requirement already satisfied: torchvision>=0.9.0 in /usr/local/lib/python3.12/dist-packages (from ultralytics) (0.23.0+cu126)\n",
            "Requirement already satisfied: tqdm>=4.64.0 in /usr/local/lib/python3.12/dist-packages (from ultralytics) (4.67.1)\n",
            "Requirement already satisfied: psutil in /usr/local/lib/python3.12/dist-packages (from ultralytics) (5.9.5)\n",
            "Requirement already satisfied: py-cpuinfo in /usr/local/lib/python3.12/dist-packages (from ultralytics) (9.0.0)\n",
            "Requirement already satisfied: pandas>=1.1.4 in /usr/local/lib/python3.12/dist-packages (from ultralytics) (2.2.2)\n",
            "Collecting ultralytics-thop>=2.0.0 (from ultralytics)\n",
            "  Downloading ultralytics_thop-2.0.16-py3-none-any.whl.metadata (14 kB)\n",
            "Requirement already satisfied: contourpy>=1.0.1 in /usr/local/lib/python3.12/dist-packages (from matplotlib>=3.3.0->ultralytics) (1.3.3)\n",
            "Requirement already satisfied: cycler>=0.10 in /usr/local/lib/python3.12/dist-packages (from matplotlib>=3.3.0->ultralytics) (0.12.1)\n",
            "Requirement already satisfied: fonttools>=4.22.0 in /usr/local/lib/python3.12/dist-packages (from matplotlib>=3.3.0->ultralytics) (4.59.1)\n",
            "Requirement already satisfied: kiwisolver>=1.3.1 in /usr/local/lib/python3.12/dist-packages (from matplotlib>=3.3.0->ultralytics) (1.4.9)\n",
            "Requirement already satisfied: packaging>=20.0 in /usr/local/lib/python3.12/dist-packages (from matplotlib>=3.3.0->ultralytics) (25.0)\n",
            "Requirement already satisfied: pyparsing>=2.3.1 in /usr/local/lib/python3.12/dist-packages (from matplotlib>=3.3.0->ultralytics) (3.2.3)\n",
            "Requirement already satisfied: python-dateutil>=2.7 in /usr/local/lib/python3.12/dist-packages (from matplotlib>=3.3.0->ultralytics) (2.9.0.post0)\n",
            "Requirement already satisfied: pytz>=2020.1 in /usr/local/lib/python3.12/dist-packages (from pandas>=1.1.4->ultralytics) (2025.2)\n",
            "Requirement already satisfied: tzdata>=2022.7 in /usr/local/lib/python3.12/dist-packages (from pandas>=1.1.4->ultralytics) (2025.2)\n",
            "Requirement already satisfied: charset_normalizer<4,>=2 in /usr/local/lib/python3.12/dist-packages (from requests>=2.23.0->ultralytics) (3.4.3)\n",
            "Requirement already satisfied: idna<4,>=2.5 in /usr/local/lib/python3.12/dist-packages (from requests>=2.23.0->ultralytics) (3.10)\n",
            "Requirement already satisfied: urllib3<3,>=1.21.1 in /usr/local/lib/python3.12/dist-packages (from requests>=2.23.0->ultralytics) (2.5.0)\n",
            "Requirement already satisfied: certifi>=2017.4.17 in /usr/local/lib/python3.12/dist-packages (from requests>=2.23.0->ultralytics) (2025.8.3)\n",
            "Requirement already satisfied: filelock in /usr/local/lib/python3.12/dist-packages (from torch>=1.8.0->ultralytics) (3.19.1)\n",
            "Requirement already satisfied: typing-extensions>=4.10.0 in /usr/local/lib/python3.12/dist-packages (from torch>=1.8.0->ultralytics) (4.14.1)\n",
            "Requirement already satisfied: setuptools in /usr/local/lib/python3.12/dist-packages (from torch>=1.8.0->ultralytics) (75.2.0)\n",
            "Requirement already satisfied: sympy>=1.13.3 in /usr/local/lib/python3.12/dist-packages (from torch>=1.8.0->ultralytics) (1.13.3)\n",
            "Requirement already satisfied: networkx in /usr/local/lib/python3.12/dist-packages (from torch>=1.8.0->ultralytics) (3.5)\n",
            "Requirement already satisfied: jinja2 in /usr/local/lib/python3.12/dist-packages (from torch>=1.8.0->ultralytics) (3.1.6)\n",
            "Requirement already satisfied: fsspec in /usr/local/lib/python3.12/dist-packages (from torch>=1.8.0->ultralytics) (2025.3.0)\n",
            "Requirement already satisfied: nvidia-cuda-nvrtc-cu12==12.6.77 in /usr/local/lib/python3.12/dist-packages (from torch>=1.8.0->ultralytics) (12.6.77)\n",
            "Requirement already satisfied: nvidia-cuda-runtime-cu12==12.6.77 in /usr/local/lib/python3.12/dist-packages (from torch>=1.8.0->ultralytics) (12.6.77)\n",
            "Requirement already satisfied: nvidia-cuda-cupti-cu12==12.6.80 in /usr/local/lib/python3.12/dist-packages (from torch>=1.8.0->ultralytics) (12.6.80)\n",
            "Requirement already satisfied: nvidia-cudnn-cu12==9.10.2.21 in /usr/local/lib/python3.12/dist-packages (from torch>=1.8.0->ultralytics) (9.10.2.21)\n",
            "Requirement already satisfied: nvidia-cublas-cu12==12.6.4.1 in /usr/local/lib/python3.12/dist-packages (from torch>=1.8.0->ultralytics) (12.6.4.1)\n",
            "Requirement already satisfied: nvidia-cufft-cu12==11.3.0.4 in /usr/local/lib/python3.12/dist-packages (from torch>=1.8.0->ultralytics) (11.3.0.4)\n",
            "Requirement already satisfied: nvidia-curand-cu12==10.3.7.77 in /usr/local/lib/python3.12/dist-packages (from torch>=1.8.0->ultralytics) (10.3.7.77)\n",
            "Requirement already satisfied: nvidia-cusolver-cu12==11.7.1.2 in /usr/local/lib/python3.12/dist-packages (from torch>=1.8.0->ultralytics) (11.7.1.2)\n",
            "Requirement already satisfied: nvidia-cusparse-cu12==12.5.4.2 in /usr/local/lib/python3.12/dist-packages (from torch>=1.8.0->ultralytics) (12.5.4.2)\n",
            "Requirement already satisfied: nvidia-cusparselt-cu12==0.7.1 in /usr/local/lib/python3.12/dist-packages (from torch>=1.8.0->ultralytics) (0.7.1)\n",
            "Requirement already satisfied: nvidia-nccl-cu12==2.27.3 in /usr/local/lib/python3.12/dist-packages (from torch>=1.8.0->ultralytics) (2.27.3)\n",
            "Requirement already satisfied: nvidia-nvtx-cu12==12.6.77 in /usr/local/lib/python3.12/dist-packages (from torch>=1.8.0->ultralytics) (12.6.77)\n",
            "Requirement already satisfied: nvidia-nvjitlink-cu12==12.6.85 in /usr/local/lib/python3.12/dist-packages (from torch>=1.8.0->ultralytics) (12.6.85)\n",
            "Requirement already satisfied: nvidia-cufile-cu12==1.11.1.6 in /usr/local/lib/python3.12/dist-packages (from torch>=1.8.0->ultralytics) (1.11.1.6)\n",
            "Requirement already satisfied: triton==3.4.0 in /usr/local/lib/python3.12/dist-packages (from torch>=1.8.0->ultralytics) (3.4.0)\n",
            "Requirement already satisfied: six>=1.5 in /usr/local/lib/python3.12/dist-packages (from python-dateutil>=2.7->matplotlib>=3.3.0->ultralytics) (1.17.0)\n",
            "Requirement already satisfied: mpmath<1.4,>=1.1.0 in /usr/local/lib/python3.12/dist-packages (from sympy>=1.13.3->torch>=1.8.0->ultralytics) (1.3.0)\n",
            "Requirement already satisfied: MarkupSafe>=2.0 in /usr/local/lib/python3.12/dist-packages (from jinja2->torch>=1.8.0->ultralytics) (3.0.2)\n",
            "Downloading ultralytics-8.3.182-py3-none-any.whl (1.0 MB)\n",
            "\u001b[2K   \u001b[90m━━━━━━━━━━━━━━━━━━━━━━━━━━━━━━━━━━━━━━━━\u001b[0m \u001b[32m1.0/1.0 MB\u001b[0m \u001b[31m29.0 MB/s\u001b[0m eta \u001b[36m0:00:00\u001b[0m\n",
            "\u001b[?25hDownloading ultralytics_thop-2.0.16-py3-none-any.whl (28 kB)\n",
            "Installing collected packages: ultralytics-thop, ultralytics\n",
            "Successfully installed ultralytics-8.3.182 ultralytics-thop-2.0.16\n",
            "Creating new Ultralytics Settings v0.0.6 file ✅ \n",
            "View Ultralytics Settings with 'yolo settings' or at '/root/.config/Ultralytics/settings.json'\n",
            "Update Settings with 'yolo settings key=value', i.e. 'yolo settings runs_dir=path/to/dir'. For help see https://docs.ultralytics.com/quickstart/#ultralytics-settings.\n"
          ]
        }
      ],
      "source": [
        "!pip install ultralytics\n",
        "\n",
        "from ultralytics import YOLO"
      ]
    },
    {
      "cell_type": "code",
      "execution_count": null,
      "metadata": {
        "colab": {
          "base_uri": "https://localhost:8080/"
        },
        "id": "TSM7PJr2NsNU",
        "outputId": "9ca3f129-44c7-43b1-f5df-3a4673920977"
      },
      "outputs": [
        {
          "name": "stderr",
          "output_type": "stream",
          "text": [
            "Downloading https://github.com/ultralytics/assets/releases/download/v8.3.0/yolov8n.pt to 'yolov8n.pt': 100%|██████████| 6.25M/6.25M [00:00<00:00, 61.7MB/s]\n"
          ]
        },
        {
          "name": "stdout",
          "output_type": "stream",
          "text": [
            "train: ../train/images\n",
            "val: ../valid/images\n",
            "test: ../test/images\n",
            "\n",
            "nc: 6\n",
            "names: ['biodegradable', 'cardboard', 'glass', 'metal', 'paper', 'plastic']\n",
            "\n",
            "roboflow:\n",
            "  workspace: garbagedetection-a0bau\n",
            "  project: garbage-detection-z5out-viutn\n",
            "  version: 1\n",
            "  license: MIT\n",
            "  url: https://universe.roboflow.com/garbagedetection-a0bau/garbage-detection-z5out-viutn/dataset/1\n"
          ]
        }
      ],
      "source": [
        "from ultralytics import YOLO\n",
        "\n",
        "# apna model load karo ya training ke liye new model banao\n",
        "model = YOLO(\"yolov8n.pt\")   # base model (tiny, fast)\n",
        "\n",
        "# dataset config check karne ke liye\n",
        "with open(\"/content/dataset/data.yaml\", \"r\") as f:\n",
        "    print(f.read())"
      ]
    },
    {
      "cell_type": "code",
      "execution_count": null,
      "metadata": {
        "colab": {
          "background_save": true,
          "base_uri": "https://localhost:8080/"
        },
        "id": "MIuj30WdOdiO",
        "outputId": "34cb6557-30eb-4c7d-b4ca-247c04ed1065"
      },
      "outputs": [
        {
          "name": "stdout",
          "output_type": "stream",
          "text": [
            "Drive already mounted at /content/drive; to attempt to forcibly remount, call drive.mount(\"/content/drive\", force_remount=True).\n"
          ]
        },
        {
          "name": "stderr",
          "output_type": "stream",
          "text": [
            "Downloading https://github.com/ultralytics/assets/releases/download/v8.3.0/yolov8s.pt to 'yolov8s.pt': 100%|██████████| 21.5M/21.5M [00:00<00:00, 125MB/s]\n"
          ]
        },
        {
          "name": "stdout",
          "output_type": "stream",
          "text": [
            "Ultralytics 8.3.182 🚀 Python-3.12.11 torch-2.8.0+cu126 CUDA:0 (Tesla T4, 15095MiB)\n",
            "\u001b[34m\u001b[1mengine/trainer: \u001b[0magnostic_nms=False, amp=True, augment=False, auto_augment=randaugment, batch=16, bgr=0.0, box=7.5, cache=False, cfg=None, classes=None, close_mosaic=10, cls=0.5, conf=None, copy_paste=0.0, copy_paste_mode=flip, cos_lr=False, cutmix=0.0, data=/content/dataset/data.yaml, degrees=0.0, deterministic=True, device=None, dfl=1.5, dnn=False, dropout=0.0, dynamic=False, embed=None, epochs=60, erasing=0.4, exist_ok=False, fliplr=0.5, flipud=0.0, format=torchscript, fraction=1.0, freeze=None, half=False, hsv_h=0.015, hsv_s=0.7, hsv_v=0.4, imgsz=640, int8=False, iou=0.7, keras=False, kobj=1.0, line_width=None, lr0=0.01, lrf=0.01, mask_ratio=4, max_det=300, mixup=0.0, mode=train, model=yolov8s.pt, momentum=0.937, mosaic=1.0, multi_scale=False, name=exp1_showcase, nbs=64, nms=False, opset=None, optimize=False, optimizer=AdamW, overlap_mask=True, patience=12, perspective=0.0, plots=True, pose=12.0, pretrained=True, profile=False, project=/content/drive/MyDrive/garbage_yolo, rect=False, resume=False, retina_masks=False, save=True, save_conf=False, save_crop=False, save_dir=/content/drive/MyDrive/garbage_yolo/exp1_showcase, save_frames=False, save_json=False, save_period=-1, save_txt=False, scale=0.5, seed=0, shear=0.0, show=False, show_boxes=True, show_conf=True, show_labels=True, simplify=True, single_cls=False, source=None, split=val, stream_buffer=False, task=detect, time=None, tracker=botsort.yaml, translate=0.1, val=True, verbose=True, vid_stride=1, visualize=False, warmup_bias_lr=0.1, warmup_epochs=3.0, warmup_momentum=0.8, weight_decay=0.0005, workers=8, workspace=None\n"
          ]
        },
        {
          "name": "stderr",
          "output_type": "stream",
          "text": [
            "Downloading https://ultralytics.com/assets/Arial.ttf to '/root/.config/Ultralytics/Arial.ttf': 100%|██████████| 755k/755k [00:00<00:00, 26.1MB/s]"
          ]
        },
        {
          "name": "stdout",
          "output_type": "stream",
          "text": [
            "Overriding model.yaml nc=80 with nc=6\n",
            "\n",
            "                   from  n    params  module                                       arguments                     \n",
            "  0                  -1  1       928  ultralytics.nn.modules.conv.Conv             [3, 32, 3, 2]                 \n",
            "  1                  -1  1     18560  ultralytics.nn.modules.conv.Conv             [32, 64, 3, 2]                \n",
            "  2                  -1  1     29056  ultralytics.nn.modules.block.C2f             [64, 64, 1, True]             \n",
            "  3                  -1  1     73984  ultralytics.nn.modules.conv.Conv             [64, 128, 3, 2]               \n",
            "  4                  -1  2    197632  ultralytics.nn.modules.block.C2f             [128, 128, 2, True]           \n",
            "  5                  -1  1    295424  ultralytics.nn.modules.conv.Conv             [128, 256, 3, 2]              \n",
            "  6                  -1  2    788480  ultralytics.nn.modules.block.C2f             [256, 256, 2, True]           \n",
            "  7                  -1  1   1180672  ultralytics.nn.modules.conv.Conv             [256, 512, 3, 2]              \n",
            "  8                  -1  1   1838080  ultralytics.nn.modules.block.C2f             [512, 512, 1, True]           \n",
            "  9                  -1  1    656896  ultralytics.nn.modules.block.SPPF            [512, 512, 5]                 \n",
            " 10                  -1  1         0  torch.nn.modules.upsampling.Upsample         [None, 2, 'nearest']          \n",
            " 11             [-1, 6]  1         0  ultralytics.nn.modules.conv.Concat           [1]                           \n",
            " 12                  -1  1    591360  ultralytics.nn.modules.block.C2f             [768, 256, 1]                 \n",
            " 13                  -1  1         0  torch.nn.modules.upsampling.Upsample         [None, 2, 'nearest']          \n",
            " 14             [-1, 4]  1         0  ultralytics.nn.modules.conv.Concat           [1]                           \n",
            " 15                  -1  1    148224  ultralytics.nn.modules.block.C2f             [384, 128, 1]                 \n",
            " 16                  -1  1    147712  ultralytics.nn.modules.conv.Conv             [128, 128, 3, 2]              \n",
            " 17            [-1, 12]  1         0  ultralytics.nn.modules.conv.Concat           [1]                           \n"
          ]
        },
        {
          "name": "stderr",
          "output_type": "stream",
          "text": [
            "\n"
          ]
        },
        {
          "name": "stdout",
          "output_type": "stream",
          "text": [
            " 18                  -1  1    493056  ultralytics.nn.modules.block.C2f             [384, 256, 1]                 \n",
            " 19                  -1  1    590336  ultralytics.nn.modules.conv.Conv             [256, 256, 3, 2]              \n",
            " 20             [-1, 9]  1         0  ultralytics.nn.modules.conv.Concat           [1]                           \n",
            " 21                  -1  1   1969152  ultralytics.nn.modules.block.C2f             [768, 512, 1]                 \n",
            " 22        [15, 18, 21]  1   2118370  ultralytics.nn.modules.head.Detect           [6, [128, 256, 512]]          \n",
            "Model summary: 129 layers, 11,137,922 parameters, 11,137,906 gradients, 28.7 GFLOPs\n",
            "\n",
            "Transferred 349/355 items from pretrained weights\n",
            "Freezing layer 'model.22.dfl.conv.weight'\n",
            "\u001b[34m\u001b[1mAMP: \u001b[0mrunning Automatic Mixed Precision (AMP) checks...\n"
          ]
        },
        {
          "name": "stderr",
          "output_type": "stream",
          "text": [
            "Downloading https://github.com/ultralytics/assets/releases/download/v8.3.0/yolo11n.pt to 'yolo11n.pt': 100%|██████████| 5.35M/5.35M [00:00<00:00, 76.1MB/s]\n"
          ]
        },
        {
          "name": "stdout",
          "output_type": "stream",
          "text": [
            "\u001b[34m\u001b[1mAMP: \u001b[0mchecks passed ✅\n",
            "\u001b[34m\u001b[1mtrain: \u001b[0mFast image access ✅ (ping: 0.0±0.0 ms, read: 361.8±184.9 MB/s, size: 11.4 KB)\n"
          ]
        },
        {
          "name": "stderr",
          "output_type": "stream",
          "text": [
            "\u001b[34m\u001b[1mtrain: \u001b[0mScanning /content/dataset/train/labels... 6612 images, 0 backgrounds, 0 corrupt: 100%|██████████| 6612/6612 [00:03<00:00, 1713.24it/s]\n"
          ]
        },
        {
          "name": "stdout",
          "output_type": "stream",
          "text": [
            "\u001b[34m\u001b[1mtrain: \u001b[0mNew cache created: /content/dataset/train/labels.cache\n",
            "\u001b[34m\u001b[1malbumentations: \u001b[0mBlur(p=0.01, blur_limit=(3, 7)), MedianBlur(p=0.01, blur_limit=(3, 7)), ToGray(p=0.01, method='weighted_average', num_output_channels=3), CLAHE(p=0.01, clip_limit=(1.0, 4.0), tile_grid_size=(8, 8))\n",
            "\u001b[34m\u001b[1mval: \u001b[0mFast image access ✅ (ping: 0.0±0.0 ms, read: 253.7±108.7 MB/s, size: 7.3 KB)\n"
          ]
        },
        {
          "name": "stderr",
          "output_type": "stream",
          "text": [
            "\u001b[34m\u001b[1mval: \u001b[0mScanning /content/dataset/valid/labels... 1856 images, 0 backgrounds, 0 corrupt: 100%|██████████| 1856/1856 [00:01<00:00, 1156.94it/s]"
          ]
        },
        {
          "name": "stdout",
          "output_type": "stream",
          "text": [
            "\u001b[34m\u001b[1mval: \u001b[0mNew cache created: /content/dataset/valid/labels.cache\n"
          ]
        },
        {
          "name": "stderr",
          "output_type": "stream",
          "text": [
            "\n"
          ]
        },
        {
          "name": "stdout",
          "output_type": "stream",
          "text": [
            "Plotting labels to /content/drive/MyDrive/garbage_yolo/exp1_showcase/labels.jpg... \n",
            "\u001b[34m\u001b[1moptimizer:\u001b[0m AdamW(lr=0.01, momentum=0.937) with parameter groups 57 weight(decay=0.0), 64 weight(decay=0.0005), 63 bias(decay=0.0)\n",
            "Image sizes 640 train, 640 val\n",
            "Using 2 dataloader workers\n",
            "Logging results to \u001b[1m/content/drive/MyDrive/garbage_yolo/exp1_showcase\u001b[0m\n",
            "Starting training for 60 epochs...\n",
            "\n",
            "      Epoch    GPU_mem   box_loss   cls_loss   dfl_loss  Instances       Size\n"
          ]
        },
        {
          "name": "stderr",
          "output_type": "stream",
          "text": [
            "       1/60      7.51G       1.67      2.371      1.653         17        640: 100%|██████████| 414/414 [02:23<00:00,  2.88it/s]\n",
            "                 Class     Images  Instances      Box(P          R      mAP50  mAP50-95): 100%|██████████| 58/58 [00:23<00:00,  2.46it/s]\n"
          ]
        },
        {
          "name": "stdout",
          "output_type": "stream",
          "text": [
            "                   all       1856      17305      0.195      0.154      0.112     0.0522\n",
            "\n",
            "      Epoch    GPU_mem   box_loss   cls_loss   dfl_loss  Instances       Size\n"
          ]
        },
        {
          "name": "stderr",
          "output_type": "stream",
          "text": [
            "       2/60      4.72G      1.663      2.267      1.691         70        640: 100%|██████████| 414/414 [02:16<00:00,  3.02it/s]\n",
            "                 Class     Images  Instances      Box(P          R      mAP50  mAP50-95): 100%|██████████| 58/58 [00:17<00:00,  3.32it/s]\n"
          ]
        },
        {
          "name": "stdout",
          "output_type": "stream",
          "text": [
            "                   all       1856      17305      0.319      0.131      0.126      0.064\n",
            "\n",
            "      Epoch    GPU_mem   box_loss   cls_loss   dfl_loss  Instances       Size\n"
          ]
        },
        {
          "name": "stderr",
          "output_type": "stream",
          "text": [
            "       3/60      6.51G      1.581      2.122       1.61         14        640: 100%|██████████| 414/414 [02:18<00:00,  2.99it/s]\n",
            "                 Class     Images  Instances      Box(P          R      mAP50  mAP50-95): 100%|██████████| 58/58 [00:17<00:00,  3.33it/s]\n"
          ]
        },
        {
          "name": "stdout",
          "output_type": "stream",
          "text": [
            "                   all       1856      17305      0.236      0.197      0.171     0.0925\n",
            "\n",
            "      Epoch    GPU_mem   box_loss   cls_loss   dfl_loss  Instances       Size\n"
          ]
        },
        {
          "name": "stderr",
          "output_type": "stream",
          "text": [
            "       4/60      6.53G      1.552      2.044      1.579         52        640: 100%|██████████| 414/414 [02:17<00:00,  3.02it/s]\n",
            "                 Class     Images  Instances      Box(P          R      mAP50  mAP50-95): 100%|██████████| 58/58 [00:17<00:00,  3.28it/s]\n"
          ]
        },
        {
          "name": "stdout",
          "output_type": "stream",
          "text": [
            "                   all       1856      17305       0.31      0.285      0.247      0.149\n",
            "\n",
            "      Epoch    GPU_mem   box_loss   cls_loss   dfl_loss  Instances       Size\n"
          ]
        },
        {
          "name": "stderr",
          "output_type": "stream",
          "text": [
            "       5/60      6.58G      1.492      1.913       1.54         65        640: 100%|██████████| 414/414 [02:17<00:00,  3.02it/s]\n",
            "                 Class     Images  Instances      Box(P          R      mAP50  mAP50-95): 100%|██████████| 58/58 [00:16<00:00,  3.45it/s]\n"
          ]
        },
        {
          "name": "stdout",
          "output_type": "stream",
          "text": [
            "                   all       1856      17305      0.378      0.266      0.257      0.153\n",
            "\n",
            "      Epoch    GPU_mem   box_loss   cls_loss   dfl_loss  Instances       Size\n"
          ]
        },
        {
          "name": "stderr",
          "output_type": "stream",
          "text": [
            "       6/60      6.61G      1.461      1.827      1.514         89        640: 100%|██████████| 414/414 [02:18<00:00,  3.00it/s]\n",
            "                 Class     Images  Instances      Box(P          R      mAP50  mAP50-95): 100%|██████████| 58/58 [00:16<00:00,  3.46it/s]\n"
          ]
        },
        {
          "name": "stdout",
          "output_type": "stream",
          "text": [
            "                   all       1856      17305      0.333      0.266      0.258      0.159\n",
            "\n",
            "      Epoch    GPU_mem   box_loss   cls_loss   dfl_loss  Instances       Size\n"
          ]
        },
        {
          "name": "stderr",
          "output_type": "stream",
          "text": [
            "       7/60      6.66G      1.442      1.822      1.504         17        640: 100%|██████████| 414/414 [02:15<00:00,  3.06it/s]\n",
            "                 Class     Images  Instances      Box(P          R      mAP50  mAP50-95): 100%|██████████| 58/58 [00:17<00:00,  3.35it/s]\n"
          ]
        },
        {
          "name": "stdout",
          "output_type": "stream",
          "text": [
            "                   all       1856      17305      0.293      0.243      0.216      0.125\n",
            "\n",
            "      Epoch    GPU_mem   box_loss   cls_loss   dfl_loss  Instances       Size\n"
          ]
        },
        {
          "name": "stderr",
          "output_type": "stream",
          "text": [
            "       8/60      6.68G      1.421      1.756      1.475         17        640: 100%|██████████| 414/414 [02:13<00:00,  3.09it/s]\n",
            "                 Class     Images  Instances      Box(P          R      mAP50  mAP50-95): 100%|██████████| 58/58 [00:16<00:00,  3.47it/s]\n"
          ]
        },
        {
          "name": "stdout",
          "output_type": "stream",
          "text": [
            "                   all       1856      17305      0.346      0.315      0.303      0.185\n",
            "\n",
            "      Epoch    GPU_mem   box_loss   cls_loss   dfl_loss  Instances       Size\n"
          ]
        },
        {
          "name": "stderr",
          "output_type": "stream",
          "text": [
            "       9/60      6.73G      1.388      1.703      1.458         53        640: 100%|██████████| 414/414 [02:14<00:00,  3.09it/s]\n",
            "                 Class     Images  Instances      Box(P          R      mAP50  mAP50-95): 100%|██████████| 58/58 [00:16<00:00,  3.45it/s]\n"
          ]
        },
        {
          "name": "stdout",
          "output_type": "stream",
          "text": [
            "                   all       1856      17305      0.454      0.319      0.332      0.206\n",
            "\n",
            "      Epoch    GPU_mem   box_loss   cls_loss   dfl_loss  Instances       Size\n"
          ]
        },
        {
          "name": "stderr",
          "output_type": "stream",
          "text": [
            "      10/60      6.75G      1.377      1.674      1.457         15        640: 100%|██████████| 414/414 [02:13<00:00,  3.11it/s]\n",
            "                 Class     Images  Instances      Box(P          R      mAP50  mAP50-95): 100%|██████████| 58/58 [00:16<00:00,  3.53it/s]\n"
          ]
        },
        {
          "name": "stdout",
          "output_type": "stream",
          "text": [
            "                   all       1856      17305      0.416      0.319      0.316      0.199\n",
            "\n",
            "      Epoch    GPU_mem   box_loss   cls_loss   dfl_loss  Instances       Size\n"
          ]
        },
        {
          "name": "stderr",
          "output_type": "stream",
          "text": [
            "      11/60       6.8G      1.351      1.644      1.441         41        640: 100%|██████████| 414/414 [02:17<00:00,  3.02it/s]\n",
            "                 Class     Images  Instances      Box(P          R      mAP50  mAP50-95): 100%|██████████| 58/58 [00:17<00:00,  3.24it/s]\n"
          ]
        },
        {
          "name": "stdout",
          "output_type": "stream",
          "text": [
            "                   all       1856      17305      0.408      0.326      0.326      0.212\n",
            "\n",
            "      Epoch    GPU_mem   box_loss   cls_loss   dfl_loss  Instances       Size\n"
          ]
        },
        {
          "name": "stderr",
          "output_type": "stream",
          "text": [
            "      12/60      6.82G      1.337      1.592      1.425         68        640: 100%|██████████| 414/414 [02:20<00:00,  2.95it/s]\n",
            "                 Class     Images  Instances      Box(P          R      mAP50  mAP50-95): 100%|██████████| 58/58 [00:17<00:00,  3.36it/s]\n"
          ]
        },
        {
          "name": "stdout",
          "output_type": "stream",
          "text": [
            "                   all       1856      17305      0.427      0.338      0.351      0.226\n",
            "\n",
            "      Epoch    GPU_mem   box_loss   cls_loss   dfl_loss  Instances       Size\n"
          ]
        },
        {
          "name": "stderr",
          "output_type": "stream",
          "text": [
            "      13/60      6.88G       1.33      1.569      1.423         97        640: 100%|██████████| 414/414 [02:12<00:00,  3.12it/s]\n",
            "                 Class     Images  Instances      Box(P          R      mAP50  mAP50-95): 100%|██████████| 58/58 [00:15<00:00,  3.64it/s]\n"
          ]
        },
        {
          "name": "stdout",
          "output_type": "stream",
          "text": [
            "                   all       1856      17305      0.441      0.343      0.353      0.233\n",
            "\n",
            "      Epoch    GPU_mem   box_loss   cls_loss   dfl_loss  Instances       Size\n"
          ]
        },
        {
          "name": "stderr",
          "output_type": "stream",
          "text": [
            "      14/60       6.9G      1.328      1.545      1.412         18        640: 100%|██████████| 414/414 [02:12<00:00,  3.13it/s]\n",
            "                 Class     Images  Instances      Box(P          R      mAP50  mAP50-95): 100%|██████████| 58/58 [00:16<00:00,  3.51it/s]"
          ]
        },
        {
          "name": "stdout",
          "output_type": "stream",
          "text": [
            "                   all       1856      17305       0.43      0.343      0.353      0.235\n"
          ]
        },
        {
          "name": "stderr",
          "output_type": "stream",
          "text": [
            "\n"
          ]
        },
        {
          "name": "stdout",
          "output_type": "stream",
          "text": [
            "\n",
            "      Epoch    GPU_mem   box_loss   cls_loss   dfl_loss  Instances       Size\n"
          ]
        },
        {
          "name": "stderr",
          "output_type": "stream",
          "text": [
            "      15/60      6.95G      1.317      1.538      1.411         34        640: 100%|██████████| 414/414 [02:20<00:00,  2.94it/s]\n",
            "                 Class     Images  Instances      Box(P          R      mAP50  mAP50-95): 100%|██████████| 58/58 [00:17<00:00,  3.23it/s]\n"
          ]
        },
        {
          "name": "stdout",
          "output_type": "stream",
          "text": [
            "                   all       1856      17305       0.46      0.373      0.378      0.237\n",
            "\n",
            "      Epoch    GPU_mem   box_loss   cls_loss   dfl_loss  Instances       Size\n"
          ]
        },
        {
          "name": "stderr",
          "output_type": "stream",
          "text": [
            "      16/60      6.97G      1.291      1.501      1.395         25        640: 100%|██████████| 414/414 [02:14<00:00,  3.07it/s]\n",
            "                 Class     Images  Instances      Box(P          R      mAP50  mAP50-95): 100%|██████████| 58/58 [00:16<00:00,  3.48it/s]\n"
          ]
        },
        {
          "name": "stdout",
          "output_type": "stream",
          "text": [
            "                   all       1856      17305      0.485      0.357      0.383      0.246\n",
            "\n",
            "      Epoch    GPU_mem   box_loss   cls_loss   dfl_loss  Instances       Size\n"
          ]
        },
        {
          "name": "stderr",
          "output_type": "stream",
          "text": [
            "      17/60      7.02G      1.297      1.486       1.39         43        640: 100%|██████████| 414/414 [02:13<00:00,  3.09it/s]\n",
            "                 Class     Images  Instances      Box(P          R      mAP50  mAP50-95): 100%|██████████| 58/58 [00:16<00:00,  3.52it/s]"
          ]
        },
        {
          "name": "stdout",
          "output_type": "stream",
          "text": [
            "                   all       1856      17305      0.499      0.345      0.392       0.26\n"
          ]
        },
        {
          "name": "stderr",
          "output_type": "stream",
          "text": [
            "\n"
          ]
        },
        {
          "name": "stdout",
          "output_type": "stream",
          "text": [
            "\n",
            "      Epoch    GPU_mem   box_loss   cls_loss   dfl_loss  Instances       Size\n"
          ]
        },
        {
          "name": "stderr",
          "output_type": "stream",
          "text": [
            "      18/60      7.04G      1.276      1.465      1.385         18        640: 100%|██████████| 414/414 [02:14<00:00,  3.07it/s]\n",
            "                 Class     Images  Instances      Box(P          R      mAP50  mAP50-95): 100%|██████████| 58/58 [00:17<00:00,  3.34it/s]"
          ]
        },
        {
          "name": "stdout",
          "output_type": "stream",
          "text": [
            "                   all       1856      17305      0.508      0.364      0.386      0.251\n"
          ]
        },
        {
          "name": "stderr",
          "output_type": "stream",
          "text": [
            "\n"
          ]
        },
        {
          "name": "stdout",
          "output_type": "stream",
          "text": [
            "\n",
            "      Epoch    GPU_mem   box_loss   cls_loss   dfl_loss  Instances       Size\n"
          ]
        },
        {
          "name": "stderr",
          "output_type": "stream",
          "text": [
            "      19/60      7.09G      1.266      1.427      1.382         28        640: 100%|██████████| 414/414 [02:12<00:00,  3.12it/s]\n",
            "                 Class     Images  Instances      Box(P          R      mAP50  mAP50-95): 100%|██████████| 58/58 [00:16<00:00,  3.54it/s]\n"
          ]
        },
        {
          "name": "stdout",
          "output_type": "stream",
          "text": [
            "                   all       1856      17305      0.536       0.38       0.43      0.285\n",
            "\n",
            "      Epoch    GPU_mem   box_loss   cls_loss   dfl_loss  Instances       Size\n"
          ]
        },
        {
          "name": "stderr",
          "output_type": "stream",
          "text": [
            "      20/60      7.12G      1.256      1.402      1.368         32        640: 100%|██████████| 414/414 [02:15<00:00,  3.06it/s]\n",
            "                 Class     Images  Instances      Box(P          R      mAP50  mAP50-95): 100%|██████████| 58/58 [00:16<00:00,  3.52it/s]"
          ]
        },
        {
          "name": "stdout",
          "output_type": "stream",
          "text": [
            "                   all       1856      17305      0.539      0.368      0.416      0.284\n"
          ]
        },
        {
          "name": "stderr",
          "output_type": "stream",
          "text": [
            "\n"
          ]
        },
        {
          "name": "stdout",
          "output_type": "stream",
          "text": [
            "\n",
            "      Epoch    GPU_mem   box_loss   cls_loss   dfl_loss  Instances       Size\n"
          ]
        },
        {
          "name": "stderr",
          "output_type": "stream",
          "text": [
            "      21/60      7.17G      1.261      1.394      1.366         78        640: 100%|██████████| 414/414 [02:12<00:00,  3.11it/s]\n",
            "                 Class     Images  Instances      Box(P          R      mAP50  mAP50-95): 100%|██████████| 58/58 [00:16<00:00,  3.54it/s]\n"
          ]
        },
        {
          "name": "stdout",
          "output_type": "stream",
          "text": [
            "                   all       1856      17305      0.542      0.382      0.435      0.292\n",
            "\n",
            "      Epoch    GPU_mem   box_loss   cls_loss   dfl_loss  Instances       Size\n"
          ]
        },
        {
          "name": "stderr",
          "output_type": "stream",
          "text": [
            "      22/60      7.19G      1.242      1.378      1.361         45        640: 100%|██████████| 414/414 [02:15<00:00,  3.05it/s]\n",
            "                 Class     Images  Instances      Box(P          R      mAP50  mAP50-95): 100%|██████████| 58/58 [00:16<00:00,  3.54it/s]\n"
          ]
        },
        {
          "name": "stdout",
          "output_type": "stream",
          "text": [
            "                   all       1856      17305      0.519      0.396      0.431      0.293\n",
            "\n",
            "      Epoch    GPU_mem   box_loss   cls_loss   dfl_loss  Instances       Size\n"
          ]
        },
        {
          "name": "stderr",
          "output_type": "stream",
          "text": [
            "      23/60      7.24G      1.252      1.357      1.358         26        640: 100%|██████████| 414/414 [02:13<00:00,  3.10it/s]\n",
            "                 Class     Images  Instances      Box(P          R      mAP50  mAP50-95): 100%|██████████| 58/58 [00:16<00:00,  3.42it/s]\n"
          ]
        },
        {
          "name": "stdout",
          "output_type": "stream",
          "text": [
            "                   all       1856      17305      0.523      0.383      0.429      0.291\n",
            "\n",
            "      Epoch    GPU_mem   box_loss   cls_loss   dfl_loss  Instances       Size\n"
          ]
        },
        {
          "name": "stderr",
          "output_type": "stream",
          "text": [
            "      24/60      7.26G      1.254      1.338      1.355         17        640: 100%|██████████| 414/414 [02:13<00:00,  3.10it/s]\n",
            "                 Class     Images  Instances      Box(P          R      mAP50  mAP50-95): 100%|██████████| 58/58 [00:16<00:00,  3.49it/s]\n"
          ]
        },
        {
          "name": "stdout",
          "output_type": "stream",
          "text": [
            "                   all       1856      17305      0.524      0.404      0.454      0.311\n",
            "\n",
            "      Epoch    GPU_mem   box_loss   cls_loss   dfl_loss  Instances       Size\n"
          ]
        },
        {
          "name": "stderr",
          "output_type": "stream",
          "text": [
            "      25/60      7.31G       1.24      1.343      1.349        129        640: 100%|██████████| 414/414 [02:15<00:00,  3.06it/s]\n",
            "                 Class     Images  Instances      Box(P          R      mAP50  mAP50-95): 100%|██████████| 58/58 [00:16<00:00,  3.53it/s]\n"
          ]
        },
        {
          "name": "stdout",
          "output_type": "stream",
          "text": [
            "                   all       1856      17305      0.508       0.42      0.435        0.3\n",
            "\n",
            "      Epoch    GPU_mem   box_loss   cls_loss   dfl_loss  Instances       Size\n"
          ]
        },
        {
          "name": "stderr",
          "output_type": "stream",
          "text": [
            "      26/60      7.33G      1.219      1.294      1.339         49        640: 100%|██████████| 414/414 [02:12<00:00,  3.12it/s]\n",
            "                 Class     Images  Instances      Box(P          R      mAP50  mAP50-95): 100%|██████████| 58/58 [00:16<00:00,  3.50it/s]\n"
          ]
        },
        {
          "name": "stdout",
          "output_type": "stream",
          "text": [
            "                   all       1856      17305      0.498      0.406      0.439      0.299\n",
            "\n",
            "      Epoch    GPU_mem   box_loss   cls_loss   dfl_loss  Instances       Size\n"
          ]
        },
        {
          "name": "stderr",
          "output_type": "stream",
          "text": [
            "      27/60      7.38G      1.212       1.28      1.333         23        640: 100%|██████████| 414/414 [02:13<00:00,  3.11it/s]\n",
            "                 Class     Images  Instances      Box(P          R      mAP50  mAP50-95): 100%|██████████| 58/58 [00:16<00:00,  3.56it/s]\n"
          ]
        },
        {
          "name": "stdout",
          "output_type": "stream",
          "text": [
            "                   all       1856      17305       0.52      0.393      0.413      0.287\n",
            "\n",
            "      Epoch    GPU_mem   box_loss   cls_loss   dfl_loss  Instances       Size\n"
          ]
        },
        {
          "name": "stderr",
          "output_type": "stream",
          "text": [
            "      28/60      5.79G      1.221       1.28      1.336         21        640: 100%|██████████| 414/414 [02:13<00:00,  3.11it/s]\n",
            "                 Class     Images  Instances      Box(P          R      mAP50  mAP50-95): 100%|██████████| 58/58 [00:16<00:00,  3.46it/s]"
          ]
        },
        {
          "name": "stdout",
          "output_type": "stream",
          "text": [
            "                   all       1856      17305      0.555      0.401      0.456      0.316\n"
          ]
        },
        {
          "name": "stderr",
          "output_type": "stream",
          "text": [
            "\n"
          ]
        },
        {
          "name": "stdout",
          "output_type": "stream",
          "text": [
            "\n",
            "      Epoch    GPU_mem   box_loss   cls_loss   dfl_loss  Instances       Size\n"
          ]
        },
        {
          "name": "stderr",
          "output_type": "stream",
          "text": [
            "      29/60      5.79G      1.198      1.257      1.326         49        640: 100%|██████████| 414/414 [02:12<00:00,  3.11it/s]\n",
            "                 Class     Images  Instances      Box(P          R      mAP50  mAP50-95): 100%|██████████| 58/58 [00:16<00:00,  3.60it/s]\n"
          ]
        },
        {
          "name": "stdout",
          "output_type": "stream",
          "text": [
            "                   all       1856      17305      0.532      0.416      0.443      0.305\n",
            "\n",
            "      Epoch    GPU_mem   box_loss   cls_loss   dfl_loss  Instances       Size\n"
          ]
        },
        {
          "name": "stderr",
          "output_type": "stream",
          "text": [
            "      30/60      5.79G      1.204      1.248      1.323         19        640: 100%|██████████| 414/414 [02:18<00:00,  2.99it/s]\n",
            "                 Class     Images  Instances      Box(P          R      mAP50  mAP50-95): 100%|██████████| 58/58 [00:16<00:00,  3.56it/s]\n"
          ]
        },
        {
          "name": "stdout",
          "output_type": "stream",
          "text": [
            "                   all       1856      17305       0.54      0.425       0.47      0.325\n",
            "\n",
            "      Epoch    GPU_mem   box_loss   cls_loss   dfl_loss  Instances       Size\n"
          ]
        },
        {
          "name": "stderr",
          "output_type": "stream",
          "text": [
            "      31/60      5.79G      1.194      1.229       1.32         33        640: 100%|██████████| 414/414 [02:13<00:00,  3.11it/s]\n",
            "                 Class     Images  Instances      Box(P          R      mAP50  mAP50-95): 100%|██████████| 58/58 [00:16<00:00,  3.44it/s]\n"
          ]
        },
        {
          "name": "stdout",
          "output_type": "stream",
          "text": [
            "                   all       1856      17305       0.54       0.44      0.469      0.326\n",
            "\n",
            "      Epoch    GPU_mem   box_loss   cls_loss   dfl_loss  Instances       Size\n"
          ]
        },
        {
          "name": "stderr",
          "output_type": "stream",
          "text": [
            "      32/60      5.79G      1.171      1.186      1.303         27        640: 100%|██████████| 414/414 [02:13<00:00,  3.10it/s]\n",
            "                 Class     Images  Instances      Box(P          R      mAP50  mAP50-95): 100%|██████████| 58/58 [00:16<00:00,  3.58it/s]\n"
          ]
        },
        {
          "name": "stdout",
          "output_type": "stream",
          "text": [
            "                   all       1856      17305      0.526      0.449      0.455      0.317\n",
            "\n",
            "      Epoch    GPU_mem   box_loss   cls_loss   dfl_loss  Instances       Size\n"
          ]
        },
        {
          "name": "stderr",
          "output_type": "stream",
          "text": [
            "      33/60      5.79G       1.17      1.197      1.302         41        640: 100%|██████████| 414/414 [02:12<00:00,  3.12it/s]\n",
            "                 Class     Images  Instances      Box(P          R      mAP50  mAP50-95): 100%|██████████| 58/58 [00:16<00:00,  3.44it/s]\n"
          ]
        },
        {
          "name": "stdout",
          "output_type": "stream",
          "text": [
            "                   all       1856      17305      0.567      0.425      0.483      0.333\n",
            "\n",
            "      Epoch    GPU_mem   box_loss   cls_loss   dfl_loss  Instances       Size\n"
          ]
        },
        {
          "name": "stderr",
          "output_type": "stream",
          "text": [
            "      34/60       5.8G      1.171      1.185      1.304         46        640: 100%|██████████| 414/414 [02:14<00:00,  3.07it/s]\n",
            "                 Class     Images  Instances      Box(P          R      mAP50  mAP50-95): 100%|██████████| 58/58 [00:16<00:00,  3.61it/s]"
          ]
        },
        {
          "name": "stdout",
          "output_type": "stream",
          "text": [
            "                   all       1856      17305      0.558      0.443      0.493       0.35\n"
          ]
        },
        {
          "name": "stderr",
          "output_type": "stream",
          "text": [
            "\n"
          ]
        },
        {
          "name": "stdout",
          "output_type": "stream",
          "text": [
            "\n",
            "      Epoch    GPU_mem   box_loss   cls_loss   dfl_loss  Instances       Size\n"
          ]
        },
        {
          "name": "stderr",
          "output_type": "stream",
          "text": [
            "      35/60      5.85G      1.174      1.167      1.304         40        640: 100%|██████████| 414/414 [02:13<00:00,  3.10it/s]\n",
            "                 Class     Images  Instances      Box(P          R      mAP50  mAP50-95): 100%|██████████| 58/58 [00:16<00:00,  3.55it/s]"
          ]
        },
        {
          "name": "stdout",
          "output_type": "stream",
          "text": [
            "                   all       1856      17305       0.55      0.448       0.49       0.34\n"
          ]
        },
        {
          "name": "stderr",
          "output_type": "stream",
          "text": [
            "\n"
          ]
        },
        {
          "name": "stdout",
          "output_type": "stream",
          "text": [
            "\n",
            "      Epoch    GPU_mem   box_loss   cls_loss   dfl_loss  Instances       Size\n"
          ]
        },
        {
          "name": "stderr",
          "output_type": "stream",
          "text": [
            "      36/60      5.88G       1.17       1.15      1.302        261        640: 100%|██████████| 414/414 [02:13<00:00,  3.09it/s]\n",
            "                 Class     Images  Instances      Box(P          R      mAP50  mAP50-95): 100%|██████████| 58/58 [00:16<00:00,  3.44it/s]\n"
          ]
        },
        {
          "name": "stdout",
          "output_type": "stream",
          "text": [
            "                   all       1856      17305      0.579      0.448      0.501      0.354\n",
            "\n",
            "      Epoch    GPU_mem   box_loss   cls_loss   dfl_loss  Instances       Size\n"
          ]
        },
        {
          "name": "stderr",
          "output_type": "stream",
          "text": [
            "      37/60      5.92G      1.167      1.161      1.304         19        640: 100%|██████████| 414/414 [02:13<00:00,  3.10it/s]\n",
            "                 Class     Images  Instances      Box(P          R      mAP50  mAP50-95): 100%|██████████| 58/58 [00:16<00:00,  3.56it/s]\n"
          ]
        },
        {
          "name": "stdout",
          "output_type": "stream",
          "text": [
            "                   all       1856      17305      0.578      0.453      0.506      0.358\n",
            "\n",
            "      Epoch    GPU_mem   box_loss   cls_loss   dfl_loss  Instances       Size\n"
          ]
        },
        {
          "name": "stderr",
          "output_type": "stream",
          "text": [
            "      38/60      5.95G      1.152      1.132       1.29        140        640: 100%|██████████| 414/414 [02:15<00:00,  3.06it/s]\n",
            "                 Class     Images  Instances      Box(P          R      mAP50  mAP50-95): 100%|██████████| 58/58 [00:16<00:00,  3.57it/s]"
          ]
        },
        {
          "name": "stdout",
          "output_type": "stream",
          "text": [
            "                   all       1856      17305      0.584      0.445      0.507      0.355\n"
          ]
        },
        {
          "name": "stderr",
          "output_type": "stream",
          "text": [
            "\n"
          ]
        },
        {
          "name": "stdout",
          "output_type": "stream",
          "text": [
            "\n",
            "      Epoch    GPU_mem   box_loss   cls_loss   dfl_loss  Instances       Size\n"
          ]
        },
        {
          "name": "stderr",
          "output_type": "stream",
          "text": [
            "      39/60         6G      1.144      1.111      1.288         37        640: 100%|██████████| 414/414 [02:12<00:00,  3.13it/s]\n",
            "                 Class     Images  Instances      Box(P          R      mAP50  mAP50-95): 100%|██████████| 58/58 [00:16<00:00,  3.58it/s]"
          ]
        },
        {
          "name": "stdout",
          "output_type": "stream",
          "text": [
            "                   all       1856      17305      0.589      0.432      0.492      0.342\n"
          ]
        },
        {
          "name": "stderr",
          "output_type": "stream",
          "text": [
            "\n"
          ]
        },
        {
          "name": "stdout",
          "output_type": "stream",
          "text": [
            "\n",
            "      Epoch    GPU_mem   box_loss   cls_loss   dfl_loss  Instances       Size\n"
          ]
        },
        {
          "name": "stderr",
          "output_type": "stream",
          "text": [
            "      40/60      6.86G      1.145       1.09      1.283         50        640: 100%|██████████| 414/414 [02:13<00:00,  3.10it/s]\n",
            "                 Class     Images  Instances      Box(P          R      mAP50  mAP50-95): 100%|██████████| 58/58 [00:16<00:00,  3.57it/s]\n"
          ]
        },
        {
          "name": "stdout",
          "output_type": "stream",
          "text": [
            "                   all       1856      17305      0.579      0.454      0.509      0.354\n",
            "\n",
            "      Epoch    GPU_mem   box_loss   cls_loss   dfl_loss  Instances       Size\n"
          ]
        },
        {
          "name": "stderr",
          "output_type": "stream",
          "text": [
            "      41/60      6.91G      1.131      1.062      1.279         69        640: 100%|██████████| 414/414 [02:12<00:00,  3.13it/s]\n",
            "                 Class     Images  Instances      Box(P          R      mAP50  mAP50-95): 100%|██████████| 58/58 [00:16<00:00,  3.53it/s]\n"
          ]
        },
        {
          "name": "stdout",
          "output_type": "stream",
          "text": [
            "                   all       1856      17305      0.584      0.457      0.493      0.347\n",
            "\n",
            "      Epoch    GPU_mem   box_loss   cls_loss   dfl_loss  Instances       Size\n"
          ]
        },
        {
          "name": "stderr",
          "output_type": "stream",
          "text": [
            "      42/60      6.93G      1.152      1.091      1.284         47        640: 100%|██████████| 414/414 [02:13<00:00,  3.11it/s]\n",
            "                 Class     Images  Instances      Box(P          R      mAP50  mAP50-95): 100%|██████████| 58/58 [00:16<00:00,  3.55it/s]\n"
          ]
        },
        {
          "name": "stdout",
          "output_type": "stream",
          "text": [
            "                   all       1856      17305       0.61      0.449      0.522      0.366\n",
            "\n",
            "      Epoch    GPU_mem   box_loss   cls_loss   dfl_loss  Instances       Size\n"
          ]
        },
        {
          "name": "stderr",
          "output_type": "stream",
          "text": [
            "      43/60      6.98G      1.141       1.08      1.279        122        640: 100%|██████████| 414/414 [02:13<00:00,  3.11it/s]\n",
            "                 Class     Images  Instances      Box(P          R      mAP50  mAP50-95): 100%|██████████| 58/58 [00:16<00:00,  3.43it/s]\n"
          ]
        },
        {
          "name": "stdout",
          "output_type": "stream",
          "text": [
            "                   all       1856      17305      0.589      0.456      0.518      0.364\n",
            "\n",
            "      Epoch    GPU_mem   box_loss   cls_loss   dfl_loss  Instances       Size\n"
          ]
        },
        {
          "name": "stderr",
          "output_type": "stream",
          "text": [
            "      44/60         7G      1.129      1.064      1.277         49        640: 100%|██████████| 414/414 [02:13<00:00,  3.10it/s]\n",
            "                 Class     Images  Instances      Box(P          R      mAP50  mAP50-95): 100%|██████████| 58/58 [00:16<00:00,  3.58it/s]\n"
          ]
        },
        {
          "name": "stdout",
          "output_type": "stream",
          "text": [
            "                   all       1856      17305      0.618      0.436       0.52      0.367\n",
            "\n",
            "      Epoch    GPU_mem   box_loss   cls_loss   dfl_loss  Instances       Size\n"
          ]
        },
        {
          "name": "stderr",
          "output_type": "stream",
          "text": [
            "      45/60      7.05G      1.117      1.036      1.265         52        640: 100%|██████████| 414/414 [02:13<00:00,  3.10it/s]\n",
            "                 Class     Images  Instances      Box(P          R      mAP50  mAP50-95): 100%|██████████| 58/58 [00:16<00:00,  3.48it/s]\n"
          ]
        },
        {
          "name": "stdout",
          "output_type": "stream",
          "text": [
            "                   all       1856      17305      0.577      0.471       0.53      0.374\n",
            "\n",
            "      Epoch    GPU_mem   box_loss   cls_loss   dfl_loss  Instances       Size\n"
          ]
        },
        {
          "name": "stderr",
          "output_type": "stream",
          "text": [
            "      46/60      7.07G      1.096      1.039      1.261         34        640: 100%|██████████| 414/414 [02:15<00:00,  3.05it/s]\n",
            "                 Class     Images  Instances      Box(P          R      mAP50  mAP50-95): 100%|██████████| 58/58 [00:16<00:00,  3.59it/s]"
          ]
        },
        {
          "name": "stdout",
          "output_type": "stream",
          "text": [
            "                   all       1856      17305      0.605      0.473      0.538       0.38\n"
          ]
        },
        {
          "name": "stderr",
          "output_type": "stream",
          "text": [
            "\n"
          ]
        },
        {
          "name": "stdout",
          "output_type": "stream",
          "text": [
            "\n",
            "      Epoch    GPU_mem   box_loss   cls_loss   dfl_loss  Instances       Size\n"
          ]
        },
        {
          "name": "stderr",
          "output_type": "stream",
          "text": [
            "      47/60      7.12G      1.107      1.017      1.262         42        640: 100%|██████████| 414/414 [02:16<00:00,  3.04it/s]\n",
            "                 Class     Images  Instances      Box(P          R      mAP50  mAP50-95): 100%|██████████| 58/58 [00:16<00:00,  3.58it/s]\n"
          ]
        },
        {
          "name": "stdout",
          "output_type": "stream",
          "text": [
            "                   all       1856      17305      0.603      0.469      0.537      0.379\n",
            "\n",
            "      Epoch    GPU_mem   box_loss   cls_loss   dfl_loss  Instances       Size\n"
          ]
        },
        {
          "name": "stderr",
          "output_type": "stream",
          "text": [
            "      48/60      7.15G      1.114      1.006      1.258         19        640: 100%|██████████| 414/414 [02:12<00:00,  3.13it/s]\n",
            "                 Class     Images  Instances      Box(P          R      mAP50  mAP50-95): 100%|██████████| 58/58 [00:16<00:00,  3.58it/s]"
          ]
        },
        {
          "name": "stdout",
          "output_type": "stream",
          "text": [
            "                   all       1856      17305      0.612      0.473       0.54      0.378\n"
          ]
        },
        {
          "name": "stderr",
          "output_type": "stream",
          "text": [
            "\n"
          ]
        },
        {
          "name": "stdout",
          "output_type": "stream",
          "text": [
            "\n",
            "      Epoch    GPU_mem   box_loss   cls_loss   dfl_loss  Instances       Size\n"
          ]
        },
        {
          "name": "stderr",
          "output_type": "stream",
          "text": [
            "      49/60       7.2G      1.109      1.001      1.254         50        640: 100%|██████████| 414/414 [02:12<00:00,  3.13it/s]\n",
            "                 Class     Images  Instances      Box(P          R      mAP50  mAP50-95): 100%|██████████| 58/58 [00:16<00:00,  3.61it/s]\n"
          ]
        },
        {
          "name": "stdout",
          "output_type": "stream",
          "text": [
            "                   all       1856      17305      0.602      0.484      0.536      0.376\n",
            "\n",
            "      Epoch    GPU_mem   box_loss   cls_loss   dfl_loss  Instances       Size\n"
          ]
        },
        {
          "name": "stderr",
          "output_type": "stream",
          "text": [
            "      50/60      7.22G      1.099      0.991      1.255        192        640: 100%|██████████| 414/414 [02:12<00:00,  3.13it/s]\n",
            "                 Class     Images  Instances      Box(P          R      mAP50  mAP50-95): 100%|██████████| 58/58 [00:16<00:00,  3.55it/s]"
          ]
        },
        {
          "name": "stdout",
          "output_type": "stream",
          "text": [
            "                   all       1856      17305      0.614      0.479       0.54       0.38\n"
          ]
        },
        {
          "name": "stderr",
          "output_type": "stream",
          "text": [
            "\n"
          ]
        },
        {
          "name": "stdout",
          "output_type": "stream",
          "text": [
            "Closing dataloader mosaic\n",
            "\u001b[34m\u001b[1malbumentations: \u001b[0mBlur(p=0.01, blur_limit=(3, 7)), MedianBlur(p=0.01, blur_limit=(3, 7)), ToGray(p=0.01, method='weighted_average', num_output_channels=3), CLAHE(p=0.01, clip_limit=(1.0, 4.0), tile_grid_size=(8, 8))\n",
            "\n",
            "      Epoch    GPU_mem   box_loss   cls_loss   dfl_loss  Instances       Size\n"
          ]
        },
        {
          "name": "stderr",
          "output_type": "stream",
          "text": [
            "      51/60      7.27G        1.1     0.9558      1.267          6        640: 100%|██████████| 414/414 [02:10<00:00,  3.17it/s]\n",
            "                 Class     Images  Instances      Box(P          R      mAP50  mAP50-95): 100%|██████████| 58/58 [00:16<00:00,  3.59it/s]\n"
          ]
        },
        {
          "name": "stdout",
          "output_type": "stream",
          "text": [
            "                   all       1856      17305      0.589      0.479      0.526      0.374\n",
            "\n",
            "      Epoch    GPU_mem   box_loss   cls_loss   dfl_loss  Instances       Size\n"
          ]
        },
        {
          "name": "stderr",
          "output_type": "stream",
          "text": [
            "      52/60      7.29G      1.082     0.9412      1.255        137        640: 100%|██████████| 414/414 [02:07<00:00,  3.23it/s]\n",
            "                 Class     Images  Instances      Box(P          R      mAP50  mAP50-95): 100%|██████████| 58/58 [00:15<00:00,  3.63it/s]\n"
          ]
        },
        {
          "name": "stdout",
          "output_type": "stream",
          "text": [
            "                   all       1856      17305      0.591      0.485      0.526      0.371\n",
            "\n",
            "      Epoch    GPU_mem   box_loss   cls_loss   dfl_loss  Instances       Size\n"
          ]
        },
        {
          "name": "stderr",
          "output_type": "stream",
          "text": [
            "      53/60      7.34G      1.071     0.9159      1.246         24        640: 100%|██████████| 414/414 [02:06<00:00,  3.28it/s]\n",
            "                 Class     Images  Instances      Box(P          R      mAP50  mAP50-95): 100%|██████████| 58/58 [00:15<00:00,  3.66it/s]\n"
          ]
        },
        {
          "name": "stdout",
          "output_type": "stream",
          "text": [
            "                   all       1856      17305      0.595      0.485      0.534      0.376\n",
            "\n",
            "      Epoch    GPU_mem   box_loss   cls_loss   dfl_loss  Instances       Size\n"
          ]
        },
        {
          "name": "stderr",
          "output_type": "stream",
          "text": [
            "      54/60      7.37G      1.059       0.89      1.236         54        640: 100%|██████████| 414/414 [02:03<00:00,  3.35it/s]\n",
            "                 Class     Images  Instances      Box(P          R      mAP50  mAP50-95): 100%|██████████| 58/58 [00:15<00:00,  3.74it/s]\n"
          ]
        },
        {
          "name": "stdout",
          "output_type": "stream",
          "text": [
            "                   all       1856      17305      0.586      0.489      0.534       0.38\n",
            "\n",
            "      Epoch    GPU_mem   box_loss   cls_loss   dfl_loss  Instances       Size\n"
          ]
        },
        {
          "name": "stderr",
          "output_type": "stream",
          "text": [
            "      55/60      6.01G      1.043     0.8952      1.237         21        640: 100%|██████████| 414/414 [02:03<00:00,  3.36it/s]\n",
            "                 Class     Images  Instances      Box(P          R      mAP50  mAP50-95): 100%|██████████| 58/58 [00:15<00:00,  3.73it/s]\n"
          ]
        },
        {
          "name": "stdout",
          "output_type": "stream",
          "text": [
            "                   all       1856      17305      0.582      0.487      0.523      0.374\n",
            "\n",
            "      Epoch    GPU_mem   box_loss   cls_loss   dfl_loss  Instances       Size\n"
          ]
        },
        {
          "name": "stderr",
          "output_type": "stream",
          "text": [
            "      56/60      6.92G      1.052     0.8758      1.233         21        640: 100%|██████████| 414/414 [02:03<00:00,  3.35it/s]\n",
            "                 Class     Images  Instances      Box(P          R      mAP50  mAP50-95): 100%|██████████| 58/58 [00:15<00:00,  3.73it/s]\n"
          ]
        },
        {
          "name": "stdout",
          "output_type": "stream",
          "text": [
            "                   all       1856      17305      0.573        0.5      0.534      0.377\n",
            "\n",
            "      Epoch    GPU_mem   box_loss   cls_loss   dfl_loss  Instances       Size\n"
          ]
        },
        {
          "name": "stderr",
          "output_type": "stream",
          "text": [
            "      57/60      6.92G      1.046     0.8637       1.23         76        640: 100%|██████████| 414/414 [02:03<00:00,  3.36it/s]\n",
            "                 Class     Images  Instances      Box(P          R      mAP50  mAP50-95): 100%|██████████| 58/58 [00:15<00:00,  3.73it/s]\n"
          ]
        },
        {
          "name": "stdout",
          "output_type": "stream",
          "text": [
            "                   all       1856      17305        0.6      0.491       0.53      0.375\n",
            "\n",
            "      Epoch    GPU_mem   box_loss   cls_loss   dfl_loss  Instances       Size\n"
          ]
        },
        {
          "name": "stderr",
          "output_type": "stream",
          "text": [
            "      58/60      6.92G      1.037     0.8511      1.228         11        640: 100%|██████████| 414/414 [02:02<00:00,  3.37it/s]\n",
            "                 Class     Images  Instances      Box(P          R      mAP50  mAP50-95): 100%|██████████| 58/58 [00:15<00:00,  3.74it/s]\n"
          ]
        },
        {
          "name": "stdout",
          "output_type": "stream",
          "text": [
            "                   all       1856      17305      0.574      0.505      0.532      0.376\n",
            "\n",
            "      Epoch    GPU_mem   box_loss   cls_loss   dfl_loss  Instances       Size\n"
          ]
        },
        {
          "name": "stderr",
          "output_type": "stream",
          "text": [
            "      59/60      6.92G      1.047     0.8496       1.23         18        640: 100%|██████████| 414/414 [02:03<00:00,  3.36it/s]\n",
            "                 Class     Images  Instances      Box(P          R      mAP50  mAP50-95): 100%|██████████| 58/58 [00:15<00:00,  3.72it/s]\n"
          ]
        },
        {
          "name": "stdout",
          "output_type": "stream",
          "text": [
            "                   all       1856      17305      0.583        0.5      0.536      0.378\n",
            "\n",
            "      Epoch    GPU_mem   box_loss   cls_loss   dfl_loss  Instances       Size\n"
          ]
        },
        {
          "name": "stderr",
          "output_type": "stream",
          "text": [
            "      60/60      6.92G      1.036     0.8342      1.221         41        640: 100%|██████████| 414/414 [02:04<00:00,  3.32it/s]\n",
            "                 Class     Images  Instances      Box(P          R      mAP50  mAP50-95): 100%|██████████| 58/58 [00:15<00:00,  3.70it/s]\n"
          ]
        },
        {
          "name": "stdout",
          "output_type": "stream",
          "text": [
            "                   all       1856      17305       0.59      0.497      0.536       0.38\n",
            "\n",
            "60 epochs completed in 2.508 hours.\n",
            "Optimizer stripped from /content/drive/MyDrive/garbage_yolo/exp1_showcase/weights/last.pt, 22.5MB\n",
            "Optimizer stripped from /content/drive/MyDrive/garbage_yolo/exp1_showcase/weights/best.pt, 22.5MB\n",
            "\n",
            "Validating /content/drive/MyDrive/garbage_yolo/exp1_showcase/weights/best.pt...\n",
            "Ultralytics 8.3.182 🚀 Python-3.12.11 torch-2.8.0+cu126 CUDA:0 (Tesla T4, 15095MiB)\n",
            "Model summary (fused): 72 layers, 11,127,906 parameters, 0 gradients, 28.4 GFLOPs\n"
          ]
        },
        {
          "name": "stderr",
          "output_type": "stream",
          "text": [
            "                 Class     Images  Instances      Box(P          R      mAP50  mAP50-95): 100%|██████████| 58/58 [00:21<00:00,  2.73it/s]\n"
          ]
        },
        {
          "name": "stdout",
          "output_type": "stream",
          "text": [
            "                   all       1856      17305      0.614      0.479       0.54       0.38\n",
            "         biodegradable        590      12636      0.778      0.524      0.647      0.369\n",
            "             cardboard        438       1292      0.804      0.491       0.62      0.474\n",
            "                 glass        762       2268      0.874      0.673       0.79      0.613\n",
            "                 metal        263        871      0.735      0.586      0.651      0.443\n",
            "                 paper         15         33     0.0243     0.0606     0.0695     0.0673\n",
            "               plastic         85        205       0.47       0.54      0.464      0.313\n",
            "Speed: 0.2ms preprocess, 3.5ms inference, 0.0ms loss, 2.2ms postprocess per image\n",
            "Results saved to \u001b[1m/content/drive/MyDrive/garbage_yolo/exp1_showcase\u001b[0m\n"
          ]
        }
      ],
      "source": [
        "from google.colab import drive\n",
        "drive.mount('/content/drive')\n",
        "\n",
        "from ultralytics import YOLO\n",
        "\n",
        "model = YOLO(\"yolov8s.pt\")\n",
        "\n",
        "results = model.train(\n",
        "    data=\"/content/dataset/data.yaml\",\n",
        "    epochs=60,\n",
        "    imgsz=640,               # standard input size\n",
        "    batch=16,                # GPU memory ke hisaab se adjust\n",
        "    optimizer=\"AdamW\",       # fast aur effective\n",
        "    patience=12,             # early stopping\n",
        "    project=\"/content/drive/MyDrive/garbage_yolo\",\n",
        "    name=\"exp1_showcase\",    # experiment name\n",
        "    save=True,\n",
        "    plots=True\n",
        ")\n"
      ]
    },
    {
      "cell_type": "code",
      "source": [
        "from ultralytics import YOLO\n",
        "\n",
        "# apna trained model load karo\n",
        "model = YOLO(\"/content/drive/MyDrive/garbage_yolo/exp1_showcase/weights/best.pt\")"
      ],
      "metadata": {
        "id": "hpYQfkYFu4Ym"
      },
      "execution_count": 11,
      "outputs": []
    },
    {
      "cell_type": "code",
      "source": [
        "import pandas as pd\n",
        "import matplotlib.pyplot as plt\n",
        "\n",
        "# apna results.csv ka path do (training wale folder ke andar hoga)\n",
        "df = pd.read_csv(\"/content/drive/MyDrive/garbage_yolo/exp1_showcase/results.csv\")\n",
        "\n",
        "# Columns check karo\n",
        "print(df.head())\n",
        "\n",
        "# 1. Training losses\n",
        "plt.plot(df[\"epoch\"], df[\"train/box_loss\"], label=\"Box Loss\")\n",
        "plt.plot(df[\"epoch\"], df[\"train/cls_loss\"], label=\"Class Loss\")\n",
        "plt.plot(df[\"epoch\"], df[\"train/dfl_loss\"], label=\"DFL Loss\")\n",
        "plt.xlabel(\"Epochs\")\n",
        "plt.ylabel(\"Loss\")\n",
        "plt.legend()\n",
        "plt.title(\"Training Loss Curves\")\n",
        "plt.show()\n",
        "\n",
        "# 2. Metrics\n",
        "plt.plot(df[\"epoch\"], df[\"metrics/precision(B)\"], label=\"Precision\")\n",
        "plt.plot(df[\"epoch\"], df[\"metrics/recall(B)\"], label=\"Recall\")\n",
        "plt.plot(df[\"epoch\"], df[\"metrics/mAP50(B)\"], label=\"mAP50\")\n",
        "plt.plot(df[\"epoch\"], df[\"metrics/mAP50-95(B)\"], label=\"mAP50-95\")\n",
        "plt.xlabel(\"Epochs\")\n",
        "plt.ylabel(\"Metrics\")\n",
        "plt.legend()\n",
        "plt.title(\"Evaluation Metrics\")\n",
        "plt.show()\n"
      ],
      "metadata": {
        "colab": {
          "base_uri": "https://localhost:8080/",
          "height": 1000
        },
        "id": "5wT4hFSyyJft",
        "outputId": "115d601d-5f7a-4602-c986-21966167c4cd"
      },
      "execution_count": 6,
      "outputs": [
        {
          "output_type": "stream",
          "name": "stdout",
          "text": [
            "   epoch     time  train/box_loss  train/cls_loss  train/dfl_loss  \\\n",
            "0      1  168.636         1.66956         2.37131         1.65290   \n",
            "1      2  324.013         1.66271         2.26725         1.69086   \n",
            "2      3  480.739         1.58130         2.12225         1.61021   \n",
            "3      4  636.705         1.55207         2.04437         1.57872   \n",
            "4      5  791.390         1.49155         1.91291         1.53952   \n",
            "\n",
            "   metrics/precision(B)  metrics/recall(B)  metrics/mAP50(B)  \\\n",
            "0               0.19456            0.15421           0.11235   \n",
            "1               0.31922            0.13051           0.12574   \n",
            "2               0.23563            0.19729           0.17060   \n",
            "3               0.30981            0.28504           0.24659   \n",
            "4               0.37771            0.26620           0.25682   \n",
            "\n",
            "   metrics/mAP50-95(B)  val/box_loss  val/cls_loss  val/dfl_loss    lr/pg0  \\\n",
            "0              0.05219       2.08821       5.48569       2.21076  0.070072   \n",
            "1              0.06402       1.89633       2.80261       1.91947  0.039963   \n",
            "2              0.09252       1.72924       2.31789       1.76410  0.009743   \n",
            "3              0.14874       1.50635       1.80598       1.58923  0.009505   \n",
            "4              0.15297       1.51297       1.81444       1.58022  0.009340   \n",
            "\n",
            "     lr/pg1    lr/pg2  \n",
            "0  0.003325  0.003325  \n",
            "1  0.006549  0.006549  \n",
            "2  0.009662  0.009662  \n",
            "3  0.009505  0.009505  \n",
            "4  0.009340  0.009340  \n"
          ]
        },
        {
          "output_type": "display_data",
          "data": {
            "text/plain": [
              "<Figure size 640x480 with 1 Axes>"
            ],
            "image/png": "[encoded data removed]"
          },
          "metadata": {}
        },
        {
          "output_type": "display_data",
          "data": {
            "text/plain": [
              "<Figure size 640x480 with 1 Axes>"
            ],
            "image/png": "[encoded data removed]"
          },
          "metadata": {}
        }
      ]
    },
    {
      "cell_type": "code",
      "source": [
        "from google.colab import files\n",
        "\n",
        "# Image upload karo\n",
        "uploaded = files.upload()"
      ],
      "metadata": {
        "colab": {
          "base_uri": "https://localhost:8080/",
          "height": 73
        },
        "id": "5szDVRZq5Re3",
        "outputId": "22ed46dd-1800-4791-c374-1195cbf325ec"
      },
      "execution_count": 22,
      "outputs": [
        {
          "output_type": "display_data",
          "data": {
            "text/plain": [
              "<IPython.core.display.HTML object>"
            ],
            "text/html": [
              "\n",
              "     <input type=\"file\" id=\"files-8d7a43a2-2dbf-48ec-a31a-891e91f5f7b0\" name=\"files[]\" multiple disabled\n",
              "        style=\"border:none\" />\n",
              "     <output id=\"result-8d7a43a2-2dbf-48ec-a31a-891e91f5f7b0\">\n",
              "      Upload widget is only available when the cell has been executed in the\n",
              "      current browser session. Please rerun this cell to enable.\n",
              "      </output>\n",
              "      <script>// Copyright 2017 Google LLC\n",
              "//\n",
              "// Licensed under the Apache License, Version 2.0 (the \"License\");\n",
              "// you may not use this file except in compliance with the License.\n",
              "// You may obtain a copy of the License at\n",
              "//\n",
              "//      http://www.apache.org/licenses/LICENSE-2.0\n",
              "//\n",
              "// Unless required by applicable law or agreed to in writing, software\n",
              "// distributed under the License is distributed on an \"AS IS\" BASIS,\n",
              "// WITHOUT WARRANTIES OR CONDITIONS OF ANY KIND, either express or implied.\n",
              "// See the License for the specific language governing permissions and\n",
              "// limitations under the License.\n",
              "\n",
              "/**\n",
              " * @fileoverview Helpers for google.colab Python module.\n",
              " */\n",
              "(function(scope) {\n",
              "function span(text, styleAttributes = {}) {\n",
              "  const element = document.createElement('span');\n",
              "  element.textContent = text;\n",
              "  for (const key of Object.keys(styleAttributes)) {\n",
              "    element.style[key] = styleAttributes[key];\n",
              "  }\n",
              "  return element;\n",
              "}\n",
              "\n",
              "// Max number of bytes which will be uploaded at a time.\n",
              "const MAX_PAYLOAD_SIZE = 100 * 1024;\n",
              "\n",
              "function _uploadFiles(inputId, outputId) {\n",
              "  const steps = uploadFilesStep(inputId, outputId);\n",
              "  const outputElement = document.getElementById(outputId);\n",
              "  // Cache steps on the outputElement to make it available for the next call\n",
              "  // to uploadFilesContinue from Python.\n",
              "  outputElement.steps = steps;\n",
              "\n",
              "  return _uploadFilesContinue(outputId);\n",
              "}\n",
              "\n",
              "// This is roughly an async generator (not supported in the browser yet),\n",
              "// where there are multiple asynchronous steps and the Python side is going\n",
              "// to poll for completion of each step.\n",
              "// This uses a Promise to block the python side on completion of each step,\n",
              "// then passes the result of the previous step as the input to the next step.\n",
              "function _uploadFilesContinue(outputId) {\n",
              "  const outputElement = document.getElementById(outputId);\n",
              "  const steps = outputElement.steps;\n",
              "\n",
              "  const next = steps.next(outputElement.lastPromiseValue);\n",
              "  return Promise.resolve(next.value.promise).then((value) => {\n",
              "    // Cache the last promise value to make it available to the next\n",
              "    // step of the generator.\n",
              "    outputElement.lastPromiseValue = value;\n",
              "    return next.value.response;\n",
              "  });\n",
              "}\n",
              "\n",
              "/**\n",
              " * Generator function which is called between each async step of the upload\n",
              " * process.\n",
              " * @param {string} inputId Element ID of the input file picker element.\n",
              " * @param {string} outputId Element ID of the output display.\n",
              " * @return {!Iterable<!Object>} Iterable of next steps.\n",
              " */\n",
              "function* uploadFilesStep(inputId, outputId) {\n",
              "  const inputElement = document.getElementById(inputId);\n",
              "  inputElement.disabled = false;\n",
              "\n",
              "  const outputElement = document.getElementById(outputId);\n",
              "  outputElement.innerHTML = '';\n",
              "\n",
              "  const pickedPromise = new Promise((resolve) => {\n",
              "    inputElement.addEventListener('change', (e) => {\n",
              "      resolve(e.target.files);\n",
              "    });\n",
              "  });\n",
              "\n",
              "  const cancel = document.createElement('button');\n",
              "  inputElement.parentElement.appendChild(cancel);\n",
              "  cancel.textContent = 'Cancel upload';\n",
              "  const cancelPromise = new Promise((resolve) => {\n",
              "    cancel.onclick = () => {\n",
              "      resolve(null);\n",
              "    };\n",
              "  });\n",
              "\n",
              "  // Wait for the user to pick the files.\n",
              "  const files = yield {\n",
              "    promise: Promise.race([pickedPromise, cancelPromise]),\n",
              "    response: {\n",
              "      action: 'starting',\n",
              "    }\n",
              "  };\n",
              "\n",
              "  cancel.remove();\n",
              "\n",
              "  // Disable the input element since further picks are not allowed.\n",
              "  inputElement.disabled = true;\n",
              "\n",
              "  if (!files) {\n",
              "    return {\n",
              "      response: {\n",
              "        action: 'complete',\n",
              "      }\n",
              "    };\n",
              "  }\n",
              "\n",
              "  for (const file of files) {\n",
              "    const li = document.createElement('li');\n",
              "    li.append(span(file.name, {fontWeight: 'bold'}));\n",
              "    li.append(span(\n",
              "        `(${file.type || 'n/a'}) - ${file.size} bytes, ` +\n",
              "        `last modified: ${\n",
              "            file.lastModifiedDate ? file.lastModifiedDate.toLocaleDateString() :\n",
              "                                    'n/a'} - `));\n",
              "    const percent = span('0% done');\n",
              "    li.appendChild(percent);\n",
              "\n",
              "    outputElement.appendChild(li);\n",
              "\n",
              "    const fileDataPromise = new Promise((resolve) => {\n",
              "      const reader = new FileReader();\n",
              "      reader.onload = (e) => {\n",
              "        resolve(e.target.result);\n",
              "      };\n",
              "      reader.readAsArrayBuffer(file);\n",
              "    });\n",
              "    // Wait for the data to be ready.\n",
              "    let fileData = yield {\n",
              "      promise: fileDataPromise,\n",
              "      response: {\n",
              "        action: 'continue',\n",
              "      }\n",
              "    };\n",
              "\n",
              "    // Use a chunked sending to avoid message size limits. See b/62115660.\n",
              "    let position = 0;\n",
              "    do {\n",
              "      const length = Math.min(fileData.byteLength - position, MAX_PAYLOAD_SIZE);\n",
              "      const chunk = new Uint8Array(fileData, position, length);\n",
              "      position += length;\n",
              "\n",
              "      const base64 = btoa(String.fromCharCode.apply(null, chunk));\n",
              "      yield {\n",
              "        response: {\n",
              "          action: 'append',\n",
              "          file: file.name,\n",
              "          data: base64,\n",
              "        },\n",
              "      };\n",
              "\n",
              "      let percentDone = fileData.byteLength === 0 ?\n",
              "          100 :\n",
              "          Math.round((position / fileData.byteLength) * 100);\n",
              "      percent.textContent = `${percentDone}% done`;\n",
              "\n",
              "    } while (position < fileData.byteLength);\n",
              "  }\n",
              "\n",
              "  // All done.\n",
              "  yield {\n",
              "    response: {\n",
              "      action: 'complete',\n",
              "    }\n",
              "  };\n",
              "}\n",
              "\n",
              "scope.google = scope.google || {};\n",
              "scope.google.colab = scope.google.colab || {};\n",
              "scope.google.colab._files = {\n",
              "  _uploadFiles,\n",
              "  _uploadFilesContinue,\n",
              "};\n",
              "})(self);\n",
              "</script> "
            ]
          },
          "metadata": {}
        },
        {
          "output_type": "stream",
          "name": "stdout",
          "text": [
            "Saving image1.jpeg to image1.jpeg\n"
          ]
        }
      ]
    },
    {
      "cell_type": "code",
      "source": [
        "import matplotlib.pyplot as plt\n",
        "\n",
        "# Run prediction\n",
        "results = model.predict(source=\"image1.jpeg\", conf=0.5)\n",
        "\n",
        "# Pehla result lo\n",
        "res = results[0]\n",
        "\n",
        "# Annotated image banao\n",
        "annotated_img = res.plot()   # numpy array with bounding boxes\n",
        "\n",
        "# Show image in notebook\n",
        "plt.imshow(annotated_img)\n",
        "plt.axis(\"off\")\n",
        "plt.show()"
      ],
      "metadata": {
        "colab": {
          "base_uri": "https://localhost:8080/",
          "height": 460
        },
        "id": "40zMV5h-84yz",
        "outputId": "4bbb8581-8ffc-4756-ecce-c0822c2552ed"
      },
      "execution_count": 23,
      "outputs": [
        {
          "output_type": "stream",
          "name": "stdout",
          "text": [
            "\n",
            "image 1/1 /content/image1.jpeg: 640x480 1 metal, 1 plastic, 444.1ms\n",
            "Speed: 4.4ms preprocess, 444.1ms inference, 1.1ms postprocess per image at shape (1, 3, 640, 480)\n"
          ]
        },
        {
          "output_type": "display_data",
          "data": {
            "text/plain": [
              "<Figure size 640x480 with 1 Axes>"
            ],
            "image/png": "[encoded data removed]"
          },
          "metadata": {}
        }
      ]
    },
    {
      "cell_type": "code",
      "source": [
        "from google.colab import files\n",
        "\n",
        "# Video upload karo\n",
        "uploaded = files.upload()\n",
        "\n",
        "# Colab me filename store kar lo\n",
        "video_file = list(uploaded.keys())[0]\n",
        "print(\"Uploaded video:\", video_file)"
      ],
      "metadata": {
        "colab": {
          "base_uri": "https://localhost:8080/",
          "height": 91
        },
        "id": "PgcA30AXMuW3",
        "outputId": "54c7266f-7c10-4298-be44-1206377859ba"
      },
      "execution_count": 12,
      "outputs": [
        {
          "output_type": "display_data",
          "data": {
            "text/plain": [
              "<IPython.core.display.HTML object>"
            ],
            "text/html": [
              "\n",
              "     <input type=\"file\" id=\"files-95a46a16-8998-421f-919b-beb1aeefc23e\" name=\"files[]\" multiple disabled\n",
              "        style=\"border:none\" />\n",
              "     <output id=\"result-95a46a16-8998-421f-919b-beb1aeefc23e\">\n",
              "      Upload widget is only available when the cell has been executed in the\n",
              "      current browser session. Please rerun this cell to enable.\n",
              "      </output>\n",
              "      <script>// Copyright 2017 Google LLC\n",
              "//\n",
              "// Licensed under the Apache License, Version 2.0 (the \"License\");\n",
              "// you may not use this file except in compliance with the License.\n",
              "// You may obtain a copy of the License at\n",
              "//\n",
              "//      http://www.apache.org/licenses/LICENSE-2.0\n",
              "//\n",
              "// Unless required by applicable law or agreed to in writing, software\n",
              "// distributed under the License is distributed on an \"AS IS\" BASIS,\n",
              "// WITHOUT WARRANTIES OR CONDITIONS OF ANY KIND, either express or implied.\n",
              "// See the License for the specific language governing permissions and\n",
              "// limitations under the License.\n",
              "\n",
              "/**\n",
              " * @fileoverview Helpers for google.colab Python module.\n",
              " */\n",
              "(function(scope) {\n",
              "function span(text, styleAttributes = {}) {\n",
              "  const element = document.createElement('span');\n",
              "  element.textContent = text;\n",
              "  for (const key of Object.keys(styleAttributes)) {\n",
              "    element.style[key] = styleAttributes[key];\n",
              "  }\n",
              "  return element;\n",
              "}\n",
              "\n",
              "// Max number of bytes which will be uploaded at a time.\n",
              "const MAX_PAYLOAD_SIZE = 100 * 1024;\n",
              "\n",
              "function _uploadFiles(inputId, outputId) {\n",
              "  const steps = uploadFilesStep(inputId, outputId);\n",
              "  const outputElement = document.getElementById(outputId);\n",
              "  // Cache steps on the outputElement to make it available for the next call\n",
              "  // to uploadFilesContinue from Python.\n",
              "  outputElement.steps = steps;\n",
              "\n",
              "  return _uploadFilesContinue(outputId);\n",
              "}\n",
              "\n",
              "// This is roughly an async generator (not supported in the browser yet),\n",
              "// where there are multiple asynchronous steps and the Python side is going\n",
              "// to poll for completion of each step.\n",
              "// This uses a Promise to block the python side on completion of each step,\n",
              "// then passes the result of the previous step as the input to the next step.\n",
              "function _uploadFilesContinue(outputId) {\n",
              "  const outputElement = document.getElementById(outputId);\n",
              "  const steps = outputElement.steps;\n",
              "\n",
              "  const next = steps.next(outputElement.lastPromiseValue);\n",
              "  return Promise.resolve(next.value.promise).then((value) => {\n",
              "    // Cache the last promise value to make it available to the next\n",
              "    // step of the generator.\n",
              "    outputElement.lastPromiseValue = value;\n",
              "    return next.value.response;\n",
              "  });\n",
              "}\n",
              "\n",
              "/**\n",
              " * Generator function which is called between each async step of the upload\n",
              " * process.\n",
              " * @param {string} inputId Element ID of the input file picker element.\n",
              " * @param {string} outputId Element ID of the output display.\n",
              " * @return {!Iterable<!Object>} Iterable of next steps.\n",
              " */\n",
              "function* uploadFilesStep(inputId, outputId) {\n",
              "  const inputElement = document.getElementById(inputId);\n",
              "  inputElement.disabled = false;\n",
              "\n",
              "  const outputElement = document.getElementById(outputId);\n",
              "  outputElement.innerHTML = '';\n",
              "\n",
              "  const pickedPromise = new Promise((resolve) => {\n",
              "    inputElement.addEventListener('change', (e) => {\n",
              "      resolve(e.target.files);\n",
              "    });\n",
              "  });\n",
              "\n",
              "  const cancel = document.createElement('button');\n",
              "  inputElement.parentElement.appendChild(cancel);\n",
              "  cancel.textContent = 'Cancel upload';\n",
              "  const cancelPromise = new Promise((resolve) => {\n",
              "    cancel.onclick = () => {\n",
              "      resolve(null);\n",
              "    };\n",
              "  });\n",
              "\n",
              "  // Wait for the user to pick the files.\n",
              "  const files = yield {\n",
              "    promise: Promise.race([pickedPromise, cancelPromise]),\n",
              "    response: {\n",
              "      action: 'starting',\n",
              "    }\n",
              "  };\n",
              "\n",
              "  cancel.remove();\n",
              "\n",
              "  // Disable the input element since further picks are not allowed.\n",
              "  inputElement.disabled = true;\n",
              "\n",
              "  if (!files) {\n",
              "    return {\n",
              "      response: {\n",
              "        action: 'complete',\n",
              "      }\n",
              "    };\n",
              "  }\n",
              "\n",
              "  for (const file of files) {\n",
              "    const li = document.createElement('li');\n",
              "    li.append(span(file.name, {fontWeight: 'bold'}));\n",
              "    li.append(span(\n",
              "        `(${file.type || 'n/a'}) - ${file.size} bytes, ` +\n",
              "        `last modified: ${\n",
              "            file.lastModifiedDate ? file.lastModifiedDate.toLocaleDateString() :\n",
              "                                    'n/a'} - `));\n",
              "    const percent = span('0% done');\n",
              "    li.appendChild(percent);\n",
              "\n",
              "    outputElement.appendChild(li);\n",
              "\n",
              "    const fileDataPromise = new Promise((resolve) => {\n",
              "      const reader = new FileReader();\n",
              "      reader.onload = (e) => {\n",
              "        resolve(e.target.result);\n",
              "      };\n",
              "      reader.readAsArrayBuffer(file);\n",
              "    });\n",
              "    // Wait for the data to be ready.\n",
              "    let fileData = yield {\n",
              "      promise: fileDataPromise,\n",
              "      response: {\n",
              "        action: 'continue',\n",
              "      }\n",
              "    };\n",
              "\n",
              "    // Use a chunked sending to avoid message size limits. See b/62115660.\n",
              "    let position = 0;\n",
              "    do {\n",
              "      const length = Math.min(fileData.byteLength - position, MAX_PAYLOAD_SIZE);\n",
              "      const chunk = new Uint8Array(fileData, position, length);\n",
              "      position += length;\n",
              "\n",
              "      const base64 = btoa(String.fromCharCode.apply(null, chunk));\n",
              "      yield {\n",
              "        response: {\n",
              "          action: 'append',\n",
              "          file: file.name,\n",
              "          data: base64,\n",
              "        },\n",
              "      };\n",
              "\n",
              "      let percentDone = fileData.byteLength === 0 ?\n",
              "          100 :\n",
              "          Math.round((position / fileData.byteLength) * 100);\n",
              "      percent.textContent = `${percentDone}% done`;\n",
              "\n",
              "    } while (position < fileData.byteLength);\n",
              "  }\n",
              "\n",
              "  // All done.\n",
              "  yield {\n",
              "    response: {\n",
              "      action: 'complete',\n",
              "    }\n",
              "  };\n",
              "}\n",
              "\n",
              "scope.google = scope.google || {};\n",
              "scope.google.colab = scope.google.colab || {};\n",
              "scope.google.colab._files = {\n",
              "  _uploadFiles,\n",
              "  _uploadFilesContinue,\n",
              "};\n",
              "})(self);\n",
              "</script> "
            ]
          },
          "metadata": {}
        },
        {
          "output_type": "stream",
          "name": "stdout",
          "text": [
            "Saving video_final.mp4 to video_final (1).mp4\n",
            "Uploaded video: video_final (1).mp4\n"
          ]
        }
      ]
    },
    {
      "cell_type": "code",
      "source": [
        "from ultralytics import YOLO\n",
        "# Video pe prediction run karo\n",
        "results = model.predict(source=video_file, conf=0.5, save=True)"
      ],
      "metadata": {
        "colab": {
          "base_uri": "https://localhost:8080/"
        },
        "id": "0Xg8DaGwNKQ3",
        "outputId": "165e2dc9-cb9a-4e96-c4d2-8cf0454a5f96"
      },
      "execution_count": 18,
      "outputs": [
        {
          "output_type": "stream",
          "name": "stdout",
          "text": [
            "\n",
            "WARNING ⚠️ \n",
            "inference results will accumulate in RAM unless `stream=True` is passed, causing potential out-of-memory\n",
            "errors for large sources or long-running streams and videos. See https://docs.ultralytics.com/modes/predict/ for help.\n",
            "\n",
            "Example:\n",
            "    results = model(source=..., stream=True)  # generator of Results objects\n",
            "    for r in results:\n",
            "        boxes = r.boxes  # Boxes object for bbox outputs\n",
            "        masks = r.masks  # Masks object for segment masks outputs\n",
            "        probs = r.probs  # Class probabilities for classification outputs\n",
            "\n",
            "video 1/1 (frame 1/437) /content/video_final (1).mp4: 640x384 1 biodegradable, 534.1ms\n",
            "video 1/1 (frame 2/437) /content/video_final (1).mp4: 640x384 1 biodegradable, 343.3ms\n",
            "video 1/1 (frame 3/437) /content/video_final (1).mp4: 640x384 1 biodegradable, 348.2ms\n",
            "video 1/1 (frame 4/437) /content/video_final (1).mp4: 640x384 1 biodegradable, 356.3ms\n",
            "video 1/1 (frame 5/437) /content/video_final (1).mp4: 640x384 1 biodegradable, 349.4ms\n",
            "video 1/1 (frame 6/437) /content/video_final (1).mp4: 640x384 1 biodegradable, 345.8ms\n",
            "video 1/1 (frame 7/437) /content/video_final (1).mp4: 640x384 1 biodegradable, 363.3ms\n",
            "video 1/1 (frame 8/437) /content/video_final (1).mp4: 640x384 1 biodegradable, 333.6ms\n",
            "video 1/1 (frame 9/437) /content/video_final (1).mp4: 640x384 1 biodegradable, 349.8ms\n",
            "video 1/1 (frame 10/437) /content/video_final (1).mp4: 640x384 1 biodegradable, 372.0ms\n",
            "video 1/1 (frame 11/437) /content/video_final (1).mp4: 640x384 1 biodegradable, 347.8ms\n",
            "video 1/1 (frame 12/437) /content/video_final (1).mp4: 640x384 1 biodegradable, 337.4ms\n",
            "video 1/1 (frame 13/437) /content/video_final (1).mp4: 640x384 1 biodegradable, 365.3ms\n",
            "video 1/1 (frame 14/437) /content/video_final (1).mp4: 640x384 1 biodegradable, 357.0ms\n",
            "video 1/1 (frame 15/437) /content/video_final (1).mp4: 640x384 1 biodegradable, 332.4ms\n",
            "video 1/1 (frame 16/437) /content/video_final (1).mp4: 640x384 1 biodegradable, 363.3ms\n",
            "video 1/1 (frame 17/437) /content/video_final (1).mp4: 640x384 1 biodegradable, 330.6ms\n",
            "video 1/1 (frame 18/437) /content/video_final (1).mp4: 640x384 1 biodegradable, 369.0ms\n",
            "video 1/1 (frame 19/437) /content/video_final (1).mp4: 640x384 1 biodegradable, 340.9ms\n",
            "video 1/1 (frame 20/437) /content/video_final (1).mp4: 640x384 1 biodegradable, 360.8ms\n",
            "video 1/1 (frame 21/437) /content/video_final (1).mp4: 640x384 1 biodegradable, 363.1ms\n",
            "video 1/1 (frame 22/437) /content/video_final (1).mp4: 640x384 1 biodegradable, 537.6ms\n",
            "video 1/1 (frame 23/437) /content/video_final (1).mp4: 640x384 1 biodegradable, 556.3ms\n",
            "video 1/1 (frame 24/437) /content/video_final (1).mp4: 640x384 1 biodegradable, 535.3ms\n",
            "video 1/1 (frame 25/437) /content/video_final (1).mp4: 640x384 1 biodegradable, 1203.1ms\n",
            "video 1/1 (frame 26/437) /content/video_final (1).mp4: 640x384 1 biodegradable, 1056.3ms\n",
            "video 1/1 (frame 27/437) /content/video_final (1).mp4: 640x384 1 biodegradable, 420.7ms\n",
            "video 1/1 (frame 28/437) /content/video_final (1).mp4: 640x384 1 biodegradable, 363.0ms\n",
            "video 1/1 (frame 29/437) /content/video_final (1).mp4: 640x384 1 biodegradable, 368.4ms\n",
            "video 1/1 (frame 30/437) /content/video_final (1).mp4: 640x384 1 biodegradable, 352.0ms\n",
            "video 1/1 (frame 31/437) /content/video_final (1).mp4: 640x384 1 biodegradable, 1 plastic, 357.6ms\n",
            "video 1/1 (frame 32/437) /content/video_final (1).mp4: 640x384 1 biodegradable, 368.8ms\n",
            "video 1/1 (frame 33/437) /content/video_final (1).mp4: 640x384 1 biodegradable, 354.0ms\n",
            "video 1/1 (frame 34/437) /content/video_final (1).mp4: 640x384 1 biodegradable, 334.0ms\n",
            "video 1/1 (frame 35/437) /content/video_final (1).mp4: 640x384 1 biodegradable, 360.7ms\n",
            "video 1/1 (frame 36/437) /content/video_final (1).mp4: 640x384 1 biodegradable, 350.3ms\n",
            "video 1/1 (frame 37/437) /content/video_final (1).mp4: 640x384 1 biodegradable, 347.5ms\n",
            "video 1/1 (frame 38/437) /content/video_final (1).mp4: 640x384 1 biodegradable, 378.9ms\n",
            "video 1/1 (frame 39/437) /content/video_final (1).mp4: 640x384 1 biodegradable, 343.8ms\n",
            "video 1/1 (frame 40/437) /content/video_final (1).mp4: 640x384 1 biodegradable, 350.4ms\n",
            "video 1/1 (frame 41/437) /content/video_final (1).mp4: 640x384 1 biodegradable, 378.5ms\n",
            "video 1/1 (frame 42/437) /content/video_final (1).mp4: 640x384 1 biodegradable, 352.7ms\n",
            "video 1/1 (frame 43/437) /content/video_final (1).mp4: 640x384 1 biodegradable, 347.5ms\n",
            "video 1/1 (frame 44/437) /content/video_final (1).mp4: 640x384 1 biodegradable, 367.2ms\n",
            "video 1/1 (frame 45/437) /content/video_final (1).mp4: 640x384 (no detections), 353.1ms\n",
            "video 1/1 (frame 46/437) /content/video_final (1).mp4: 640x384 (no detections), 376.7ms\n",
            "video 1/1 (frame 47/437) /content/video_final (1).mp4: 640x384 (no detections), 357.2ms\n",
            "video 1/1 (frame 48/437) /content/video_final (1).mp4: 640x384 (no detections), 338.1ms\n",
            "video 1/1 (frame 49/437) /content/video_final (1).mp4: 640x384 (no detections), 349.0ms\n",
            "video 1/1 (frame 50/437) /content/video_final (1).mp4: 640x384 (no detections), 333.4ms\n",
            "video 1/1 (frame 51/437) /content/video_final (1).mp4: 640x384 (no detections), 340.0ms\n",
            "video 1/1 (frame 52/437) /content/video_final (1).mp4: 640x384 1 paper, 359.7ms\n",
            "video 1/1 (frame 53/437) /content/video_final (1).mp4: 640x384 (no detections), 344.2ms\n",
            "video 1/1 (frame 54/437) /content/video_final (1).mp4: 640x384 1 paper, 490.0ms\n",
            "video 1/1 (frame 55/437) /content/video_final (1).mp4: 640x384 1 paper, 558.7ms\n",
            "video 1/1 (frame 56/437) /content/video_final (1).mp4: 640x384 1 paper, 543.3ms\n",
            "video 1/1 (frame 57/437) /content/video_final (1).mp4: 640x384 1 paper, 559.5ms\n",
            "video 1/1 (frame 58/437) /content/video_final (1).mp4: 640x384 (no detections), 560.7ms\n",
            "video 1/1 (frame 59/437) /content/video_final (1).mp4: 640x384 (no detections), 560.3ms\n",
            "video 1/1 (frame 60/437) /content/video_final (1).mp4: 640x384 (no detections), 525.9ms\n",
            "video 1/1 (frame 61/437) /content/video_final (1).mp4: 640x384 (no detections), 335.4ms\n",
            "video 1/1 (frame 62/437) /content/video_final (1).mp4: 640x384 (no detections), 347.0ms\n",
            "video 1/1 (frame 63/437) /content/video_final (1).mp4: 640x384 (no detections), 358.4ms\n",
            "video 1/1 (frame 64/437) /content/video_final (1).mp4: 640x384 (no detections), 354.4ms\n",
            "video 1/1 (frame 65/437) /content/video_final (1).mp4: 640x384 (no detections), 351.1ms\n",
            "video 1/1 (frame 66/437) /content/video_final (1).mp4: 640x384 (no detections), 352.8ms\n",
            "video 1/1 (frame 67/437) /content/video_final (1).mp4: 640x384 (no detections), 344.5ms\n",
            "video 1/1 (frame 68/437) /content/video_final (1).mp4: 640x384 (no detections), 339.6ms\n",
            "video 1/1 (frame 69/437) /content/video_final (1).mp4: 640x384 (no detections), 358.2ms\n",
            "video 1/1 (frame 70/437) /content/video_final (1).mp4: 640x384 (no detections), 342.2ms\n",
            "video 1/1 (frame 71/437) /content/video_final (1).mp4: 640x384 (no detections), 329.1ms\n",
            "video 1/1 (frame 72/437) /content/video_final (1).mp4: 640x384 (no detections), 344.2ms\n",
            "video 1/1 (frame 73/437) /content/video_final (1).mp4: 640x384 (no detections), 341.7ms\n",
            "video 1/1 (frame 74/437) /content/video_final (1).mp4: 640x384 (no detections), 328.4ms\n",
            "video 1/1 (frame 75/437) /content/video_final (1).mp4: 640x384 (no detections), 360.2ms\n",
            "video 1/1 (frame 76/437) /content/video_final (1).mp4: 640x384 (no detections), 347.8ms\n",
            "video 1/1 (frame 77/437) /content/video_final (1).mp4: 640x384 (no detections), 358.9ms\n",
            "video 1/1 (frame 78/437) /content/video_final (1).mp4: 640x384 (no detections), 329.4ms\n",
            "video 1/1 (frame 79/437) /content/video_final (1).mp4: 640x384 (no detections), 356.5ms\n",
            "video 1/1 (frame 80/437) /content/video_final (1).mp4: 640x384 (no detections), 347.0ms\n",
            "video 1/1 (frame 81/437) /content/video_final (1).mp4: 640x384 (no detections), 357.4ms\n",
            "video 1/1 (frame 82/437) /content/video_final (1).mp4: 640x384 (no detections), 345.0ms\n",
            "video 1/1 (frame 83/437) /content/video_final (1).mp4: 640x384 (no detections), 366.8ms\n",
            "video 1/1 (frame 84/437) /content/video_final (1).mp4: 640x384 (no detections), 355.8ms\n",
            "video 1/1 (frame 85/437) /content/video_final (1).mp4: 640x384 (no detections), 337.7ms\n",
            "video 1/1 (frame 86/437) /content/video_final (1).mp4: 640x384 (no detections), 355.3ms\n",
            "video 1/1 (frame 87/437) /content/video_final (1).mp4: 640x384 (no detections), 347.2ms\n",
            "video 1/1 (frame 88/437) /content/video_final (1).mp4: 640x384 (no detections), 440.2ms\n",
            "video 1/1 (frame 89/437) /content/video_final (1).mp4: 640x384 (no detections), 535.5ms\n",
            "video 1/1 (frame 90/437) /content/video_final (1).mp4: 640x384 (no detections), 552.1ms\n",
            "video 1/1 (frame 91/437) /content/video_final (1).mp4: 640x384 (no detections), 545.9ms\n",
            "video 1/1 (frame 92/437) /content/video_final (1).mp4: 640x384 (no detections), 550.7ms\n",
            "video 1/1 (frame 93/437) /content/video_final (1).mp4: 640x384 (no detections), 525.8ms\n",
            "video 1/1 (frame 94/437) /content/video_final (1).mp4: 640x384 (no detections), 557.1ms\n",
            "video 1/1 (frame 95/437) /content/video_final (1).mp4: 640x384 (no detections), 391.3ms\n",
            "video 1/1 (frame 96/437) /content/video_final (1).mp4: 640x384 (no detections), 334.8ms\n",
            "video 1/1 (frame 97/437) /content/video_final (1).mp4: 640x384 (no detections), 353.7ms\n",
            "video 1/1 (frame 98/437) /content/video_final (1).mp4: 640x384 (no detections), 330.3ms\n",
            "video 1/1 (frame 99/437) /content/video_final (1).mp4: 640x384 (no detections), 353.8ms\n",
            "video 1/1 (frame 100/437) /content/video_final (1).mp4: 640x384 1 metal, 371.4ms\n",
            "video 1/1 (frame 101/437) /content/video_final (1).mp4: 640x384 1 metal, 342.9ms\n",
            "video 1/1 (frame 102/437) /content/video_final (1).mp4: 640x384 1 metal, 341.1ms\n",
            "video 1/1 (frame 103/437) /content/video_final (1).mp4: 640x384 1 metal, 370.4ms\n",
            "video 1/1 (frame 104/437) /content/video_final (1).mp4: 640x384 1 metal, 364.5ms\n",
            "video 1/1 (frame 105/437) /content/video_final (1).mp4: 640x384 1 metal, 346.8ms\n",
            "video 1/1 (frame 106/437) /content/video_final (1).mp4: 640x384 1 metal, 359.3ms\n",
            "video 1/1 (frame 107/437) /content/video_final (1).mp4: 640x384 1 metal, 357.9ms\n",
            "video 1/1 (frame 108/437) /content/video_final (1).mp4: 640x384 2 metals, 360.0ms\n",
            "video 1/1 (frame 109/437) /content/video_final (1).mp4: 640x384 2 metals, 353.7ms\n",
            "video 1/1 (frame 110/437) /content/video_final (1).mp4: 640x384 2 metals, 335.8ms\n",
            "video 1/1 (frame 111/437) /content/video_final (1).mp4: 640x384 2 metals, 356.3ms\n",
            "video 1/1 (frame 112/437) /content/video_final (1).mp4: 640x384 2 metals, 336.1ms\n",
            "video 1/1 (frame 113/437) /content/video_final (1).mp4: 640x384 1 metal, 360.4ms\n",
            "video 1/1 (frame 114/437) /content/video_final (1).mp4: 640x384 1 metal, 363.8ms\n",
            "video 1/1 (frame 115/437) /content/video_final (1).mp4: 640x384 1 metal, 348.6ms\n",
            "video 1/1 (frame 116/437) /content/video_final (1).mp4: 640x384 1 metal, 348.9ms\n",
            "video 1/1 (frame 117/437) /content/video_final (1).mp4: 640x384 1 metal, 358.0ms\n",
            "video 1/1 (frame 118/437) /content/video_final (1).mp4: 640x384 1 metal, 349.2ms\n",
            "video 1/1 (frame 119/437) /content/video_final (1).mp4: 640x384 1 metal, 348.4ms\n",
            "video 1/1 (frame 120/437) /content/video_final (1).mp4: 640x384 1 metal, 369.4ms\n",
            "video 1/1 (frame 121/437) /content/video_final (1).mp4: 640x384 1 metal, 345.5ms\n",
            "video 1/1 (frame 122/437) /content/video_final (1).mp4: 640x384 1 metal, 467.0ms\n",
            "video 1/1 (frame 123/437) /content/video_final (1).mp4: 640x384 1 metal, 545.9ms\n",
            "video 1/1 (frame 124/437) /content/video_final (1).mp4: 640x384 1 metal, 546.2ms\n",
            "video 1/1 (frame 125/437) /content/video_final (1).mp4: 640x384 1 metal, 546.9ms\n",
            "video 1/1 (frame 126/437) /content/video_final (1).mp4: 640x384 1 metal, 545.4ms\n",
            "video 1/1 (frame 127/437) /content/video_final (1).mp4: 640x384 1 metal, 545.1ms\n",
            "video 1/1 (frame 128/437) /content/video_final (1).mp4: 640x384 1 metal, 545.6ms\n",
            "video 1/1 (frame 129/437) /content/video_final (1).mp4: 640x384 1 metal, 375.4ms\n",
            "video 1/1 (frame 130/437) /content/video_final (1).mp4: 640x384 1 metal, 352.8ms\n",
            "video 1/1 (frame 131/437) /content/video_final (1).mp4: 640x384 1 metal, 370.2ms\n",
            "video 1/1 (frame 132/437) /content/video_final (1).mp4: 640x384 1 metal, 344.6ms\n",
            "video 1/1 (frame 133/437) /content/video_final (1).mp4: 640x384 1 metal, 368.4ms\n",
            "video 1/1 (frame 134/437) /content/video_final (1).mp4: 640x384 1 metal, 346.7ms\n",
            "video 1/1 (frame 135/437) /content/video_final (1).mp4: 640x384 1 metal, 342.0ms\n",
            "video 1/1 (frame 136/437) /content/video_final (1).mp4: 640x384 1 metal, 353.8ms\n",
            "video 1/1 (frame 137/437) /content/video_final (1).mp4: 640x384 1 metal, 348.4ms\n",
            "video 1/1 (frame 138/437) /content/video_final (1).mp4: 640x384 1 metal, 354.6ms\n",
            "video 1/1 (frame 139/437) /content/video_final (1).mp4: 640x384 1 metal, 368.3ms\n",
            "video 1/1 (frame 140/437) /content/video_final (1).mp4: 640x384 1 metal, 344.6ms\n",
            "video 1/1 (frame 141/437) /content/video_final (1).mp4: 640x384 1 metal, 1 plastic, 350.1ms\n",
            "video 1/1 (frame 142/437) /content/video_final (1).mp4: 640x384 1 metal, 366.3ms\n",
            "video 1/1 (frame 143/437) /content/video_final (1).mp4: 640x384 1 metal, 353.4ms\n",
            "video 1/1 (frame 144/437) /content/video_final (1).mp4: 640x384 2 metals, 362.3ms\n",
            "video 1/1 (frame 145/437) /content/video_final (1).mp4: 640x384 1 metal, 365.9ms\n",
            "video 1/1 (frame 146/437) /content/video_final (1).mp4: 640x384 1 metal, 345.8ms\n",
            "video 1/1 (frame 147/437) /content/video_final (1).mp4: 640x384 1 metal, 361.7ms\n",
            "video 1/1 (frame 148/437) /content/video_final (1).mp4: 640x384 1 metal, 353.6ms\n",
            "video 1/1 (frame 149/437) /content/video_final (1).mp4: 640x384 1 metal, 347.5ms\n",
            "video 1/1 (frame 150/437) /content/video_final (1).mp4: 640x384 1 metal, 381.7ms\n",
            "video 1/1 (frame 151/437) /content/video_final (1).mp4: 640x384 1 metal, 331.7ms\n",
            "video 1/1 (frame 152/437) /content/video_final (1).mp4: 640x384 1 metal, 348.4ms\n",
            "video 1/1 (frame 153/437) /content/video_final (1).mp4: 640x384 1 metal, 363.7ms\n",
            "video 1/1 (frame 154/437) /content/video_final (1).mp4: 640x384 1 metal, 357.0ms\n",
            "video 1/1 (frame 155/437) /content/video_final (1).mp4: 640x384 1 metal, 332.6ms\n",
            "video 1/1 (frame 156/437) /content/video_final (1).mp4: 640x384 1 metal, 555.1ms\n",
            "video 1/1 (frame 157/437) /content/video_final (1).mp4: 640x384 1 metal, 554.4ms\n",
            "video 1/1 (frame 158/437) /content/video_final (1).mp4: 640x384 1 metal, 514.0ms\n",
            "video 1/1 (frame 159/437) /content/video_final (1).mp4: 640x384 1 metal, 541.5ms\n",
            "video 1/1 (frame 160/437) /content/video_final (1).mp4: 640x384 1 metal, 551.4ms\n",
            "video 1/1 (frame 161/437) /content/video_final (1).mp4: 640x384 1 metal, 562.2ms\n",
            "video 1/1 (frame 162/437) /content/video_final (1).mp4: 640x384 (no detections), 496.3ms\n",
            "video 1/1 (frame 163/437) /content/video_final (1).mp4: 640x384 1 metal, 355.0ms\n",
            "video 1/1 (frame 164/437) /content/video_final (1).mp4: 640x384 1 metal, 365.4ms\n",
            "video 1/1 (frame 165/437) /content/video_final (1).mp4: 640x384 (no detections), 356.6ms\n",
            "video 1/1 (frame 166/437) /content/video_final (1).mp4: 640x384 1 paper, 338.7ms\n",
            "video 1/1 (frame 167/437) /content/video_final (1).mp4: 640x384 1 paper, 348.4ms\n",
            "video 1/1 (frame 168/437) /content/video_final (1).mp4: 640x384 1 paper, 352.9ms\n",
            "video 1/1 (frame 169/437) /content/video_final (1).mp4: 640x384 1 paper, 355.0ms\n",
            "video 1/1 (frame 170/437) /content/video_final (1).mp4: 640x384 1 paper, 341.1ms\n",
            "video 1/1 (frame 171/437) /content/video_final (1).mp4: 640x384 1 paper, 346.2ms\n",
            "video 1/1 (frame 172/437) /content/video_final (1).mp4: 640x384 1 paper, 485.7ms\n",
            "video 1/1 (frame 173/437) /content/video_final (1).mp4: 640x384 1 paper, 343.7ms\n",
            "video 1/1 (frame 174/437) /content/video_final (1).mp4: 640x384 1 paper, 349.0ms\n",
            "video 1/1 (frame 175/437) /content/video_final (1).mp4: 640x384 1 paper, 375.1ms\n",
            "video 1/1 (frame 176/437) /content/video_final (1).mp4: 640x384 1 paper, 341.3ms\n",
            "video 1/1 (frame 177/437) /content/video_final (1).mp4: 640x384 1 paper, 356.6ms\n",
            "video 1/1 (frame 178/437) /content/video_final (1).mp4: 640x384 1 paper, 387.8ms\n",
            "video 1/1 (frame 179/437) /content/video_final (1).mp4: 640x384 1 paper, 346.5ms\n",
            "video 1/1 (frame 180/437) /content/video_final (1).mp4: 640x384 1 paper, 364.8ms\n",
            "video 1/1 (frame 181/437) /content/video_final (1).mp4: 640x384 1 paper, 353.9ms\n",
            "video 1/1 (frame 182/437) /content/video_final (1).mp4: 640x384 1 paper, 344.3ms\n",
            "video 1/1 (frame 183/437) /content/video_final (1).mp4: 640x384 1 plastic, 362.6ms\n",
            "video 1/1 (frame 184/437) /content/video_final (1).mp4: 640x384 1 plastic, 353.2ms\n",
            "video 1/1 (frame 185/437) /content/video_final (1).mp4: 640x384 1 plastic, 351.1ms\n",
            "video 1/1 (frame 186/437) /content/video_final (1).mp4: 640x384 1 plastic, 364.0ms\n",
            "video 1/1 (frame 187/437) /content/video_final (1).mp4: 640x384 1 plastic, 349.0ms\n",
            "video 1/1 (frame 188/437) /content/video_final (1).mp4: 640x384 1 plastic, 340.8ms\n",
            "video 1/1 (frame 189/437) /content/video_final (1).mp4: 640x384 1 plastic, 506.4ms\n",
            "video 1/1 (frame 190/437) /content/video_final (1).mp4: 640x384 1 plastic, 559.2ms\n",
            "video 1/1 (frame 191/437) /content/video_final (1).mp4: 640x384 1 plastic, 565.1ms\n",
            "video 1/1 (frame 192/437) /content/video_final (1).mp4: 640x384 1 plastic, 565.3ms\n",
            "video 1/1 (frame 193/437) /content/video_final (1).mp4: 640x384 1 plastic, 534.9ms\n",
            "video 1/1 (frame 194/437) /content/video_final (1).mp4: 640x384 1 plastic, 562.6ms\n",
            "video 1/1 (frame 195/437) /content/video_final (1).mp4: 640x384 1 plastic, 527.6ms\n",
            "video 1/1 (frame 196/437) /content/video_final (1).mp4: 640x384 1 plastic, 361.5ms\n",
            "video 1/1 (frame 197/437) /content/video_final (1).mp4: 640x384 1 plastic, 365.2ms\n",
            "video 1/1 (frame 198/437) /content/video_final (1).mp4: 640x384 1 plastic, 352.2ms\n",
            "video 1/1 (frame 199/437) /content/video_final (1).mp4: 640x384 1 plastic, 355.2ms\n",
            "video 1/1 (frame 200/437) /content/video_final (1).mp4: 640x384 1 plastic, 347.6ms\n",
            "video 1/1 (frame 201/437) /content/video_final (1).mp4: 640x384 1 plastic, 346.8ms\n",
            "video 1/1 (frame 202/437) /content/video_final (1).mp4: 640x384 1 plastic, 372.7ms\n",
            "video 1/1 (frame 203/437) /content/video_final (1).mp4: 640x384 1 plastic, 352.3ms\n",
            "video 1/1 (frame 204/437) /content/video_final (1).mp4: 640x384 1 plastic, 354.6ms\n",
            "video 1/1 (frame 205/437) /content/video_final (1).mp4: 640x384 1 plastic, 360.0ms\n",
            "video 1/1 (frame 206/437) /content/video_final (1).mp4: 640x384 1 plastic, 343.9ms\n",
            "video 1/1 (frame 207/437) /content/video_final (1).mp4: 640x384 1 plastic, 350.8ms\n",
            "video 1/1 (frame 208/437) /content/video_final (1).mp4: 640x384 1 plastic, 372.0ms\n",
            "video 1/1 (frame 209/437) /content/video_final (1).mp4: 640x384 1 plastic, 353.9ms\n",
            "video 1/1 (frame 210/437) /content/video_final (1).mp4: 640x384 1 plastic, 361.3ms\n",
            "video 1/1 (frame 211/437) /content/video_final (1).mp4: 640x384 1 glass, 362.7ms\n",
            "video 1/1 (frame 212/437) /content/video_final (1).mp4: 640x384 1 glass, 340.0ms\n",
            "video 1/1 (frame 213/437) /content/video_final (1).mp4: 640x384 1 plastic, 353.6ms\n",
            "video 1/1 (frame 214/437) /content/video_final (1).mp4: 640x384 1 plastic, 351.4ms\n",
            "video 1/1 (frame 215/437) /content/video_final (1).mp4: 640x384 (no detections), 352.3ms\n",
            "video 1/1 (frame 216/437) /content/video_final (1).mp4: 640x384 1 plastic, 364.5ms\n",
            "video 1/1 (frame 217/437) /content/video_final (1).mp4: 640x384 1 plastic, 353.2ms\n",
            "video 1/1 (frame 218/437) /content/video_final (1).mp4: 640x384 1 plastic, 351.6ms\n",
            "video 1/1 (frame 219/437) /content/video_final (1).mp4: 640x384 1 plastic, 360.9ms\n",
            "video 1/1 (frame 220/437) /content/video_final (1).mp4: 640x384 1 plastic, 351.9ms\n",
            "video 1/1 (frame 221/437) /content/video_final (1).mp4: 640x384 1 plastic, 342.5ms\n",
            "video 1/1 (frame 222/437) /content/video_final (1).mp4: 640x384 1 plastic, 434.7ms\n",
            "video 1/1 (frame 223/437) /content/video_final (1).mp4: 640x384 1 plastic, 557.8ms\n",
            "video 1/1 (frame 224/437) /content/video_final (1).mp4: 640x384 1 plastic, 563.3ms\n",
            "video 1/1 (frame 225/437) /content/video_final (1).mp4: 640x384 1 plastic, 542.1ms\n",
            "video 1/1 (frame 226/437) /content/video_final (1).mp4: 640x384 1 plastic, 548.6ms\n",
            "video 1/1 (frame 227/437) /content/video_final (1).mp4: 640x384 1 plastic, 549.0ms\n",
            "video 1/1 (frame 228/437) /content/video_final (1).mp4: 640x384 1 plastic, 544.9ms\n",
            "video 1/1 (frame 229/437) /content/video_final (1).mp4: 640x384 1 plastic, 393.5ms\n",
            "video 1/1 (frame 230/437) /content/video_final (1).mp4: 640x384 1 plastic, 373.9ms\n",
            "video 1/1 (frame 231/437) /content/video_final (1).mp4: 640x384 1 plastic, 348.9ms\n",
            "video 1/1 (frame 232/437) /content/video_final (1).mp4: 640x384 1 plastic, 348.4ms\n",
            "video 1/1 (frame 233/437) /content/video_final (1).mp4: 640x384 1 plastic, 367.8ms\n",
            "video 1/1 (frame 234/437) /content/video_final (1).mp4: 640x384 1 plastic, 343.6ms\n",
            "video 1/1 (frame 235/437) /content/video_final (1).mp4: 640x384 1 plastic, 373.9ms\n",
            "video 1/1 (frame 236/437) /content/video_final (1).mp4: 640x384 1 paper, 354.1ms\n",
            "video 1/1 (frame 237/437) /content/video_final (1).mp4: 640x384 1 paper, 343.1ms\n",
            "video 1/1 (frame 238/437) /content/video_final (1).mp4: 640x384 1 paper, 368.5ms\n",
            "video 1/1 (frame 239/437) /content/video_final (1).mp4: 640x384 1 paper, 353.6ms\n",
            "video 1/1 (frame 240/437) /content/video_final (1).mp4: 640x384 1 paper, 339.9ms\n",
            "video 1/1 (frame 241/437) /content/video_final (1).mp4: 640x384 1 paper, 374.9ms\n",
            "video 1/1 (frame 242/437) /content/video_final (1).mp4: 640x384 1 paper, 357.9ms\n",
            "video 1/1 (frame 243/437) /content/video_final (1).mp4: 640x384 1 paper, 341.6ms\n",
            "video 1/1 (frame 244/437) /content/video_final (1).mp4: 640x384 1 paper, 369.4ms\n",
            "video 1/1 (frame 245/437) /content/video_final (1).mp4: 640x384 1 paper, 357.1ms\n",
            "video 1/1 (frame 246/437) /content/video_final (1).mp4: 640x384 1 paper, 338.0ms\n",
            "video 1/1 (frame 247/437) /content/video_final (1).mp4: 640x384 (no detections), 362.6ms\n",
            "video 1/1 (frame 248/437) /content/video_final (1).mp4: 640x384 (no detections), 352.7ms\n",
            "video 1/1 (frame 249/437) /content/video_final (1).mp4: 640x384 (no detections), 355.2ms\n",
            "video 1/1 (frame 250/437) /content/video_final (1).mp4: 640x384 1 paper, 354.3ms\n",
            "video 1/1 (frame 251/437) /content/video_final (1).mp4: 640x384 (no detections), 354.0ms\n",
            "video 1/1 (frame 252/437) /content/video_final (1).mp4: 640x384 (no detections), 377.7ms\n",
            "video 1/1 (frame 253/437) /content/video_final (1).mp4: 640x384 (no detections), 356.7ms\n",
            "video 1/1 (frame 254/437) /content/video_final (1).mp4: 640x384 (no detections), 348.7ms\n",
            "video 1/1 (frame 255/437) /content/video_final (1).mp4: 640x384 (no detections), 357.9ms\n",
            "video 1/1 (frame 256/437) /content/video_final (1).mp4: 640x384 (no detections), 541.1ms\n",
            "video 1/1 (frame 257/437) /content/video_final (1).mp4: 640x384 1 paper, 562.2ms\n",
            "video 1/1 (frame 258/437) /content/video_final (1).mp4: 640x384 1 paper, 524.0ms\n",
            "video 1/1 (frame 259/437) /content/video_final (1).mp4: 640x384 (no detections), 574.6ms\n",
            "video 1/1 (frame 260/437) /content/video_final (1).mp4: 640x384 1 paper, 551.2ms\n",
            "video 1/1 (frame 261/437) /content/video_final (1).mp4: 640x384 1 paper, 549.3ms\n",
            "video 1/1 (frame 262/437) /content/video_final (1).mp4: 640x384 1 paper, 473.7ms\n",
            "video 1/1 (frame 263/437) /content/video_final (1).mp4: 640x384 1 paper, 368.3ms\n",
            "video 1/1 (frame 264/437) /content/video_final (1).mp4: 640x384 1 paper, 341.4ms\n",
            "video 1/1 (frame 265/437) /content/video_final (1).mp4: 640x384 1 paper, 355.2ms\n",
            "video 1/1 (frame 266/437) /content/video_final (1).mp4: 640x384 1 paper, 363.1ms\n",
            "video 1/1 (frame 267/437) /content/video_final (1).mp4: 640x384 1 paper, 352.5ms\n",
            "video 1/1 (frame 268/437) /content/video_final (1).mp4: 640x384 1 paper, 353.9ms\n",
            "video 1/1 (frame 269/437) /content/video_final (1).mp4: 640x384 1 paper, 365.1ms\n",
            "video 1/1 (frame 270/437) /content/video_final (1).mp4: 640x384 1 paper, 341.7ms\n",
            "video 1/1 (frame 271/437) /content/video_final (1).mp4: 640x384 1 paper, 360.8ms\n",
            "video 1/1 (frame 272/437) /content/video_final (1).mp4: 640x384 1 paper, 349.1ms\n",
            "video 1/1 (frame 273/437) /content/video_final (1).mp4: 640x384 1 paper, 340.9ms\n",
            "video 1/1 (frame 274/437) /content/video_final (1).mp4: 640x384 1 paper, 368.7ms\n",
            "video 1/1 (frame 275/437) /content/video_final (1).mp4: 640x384 1 paper, 352.9ms\n",
            "video 1/1 (frame 276/437) /content/video_final (1).mp4: 640x384 1 paper, 341.7ms\n",
            "video 1/1 (frame 277/437) /content/video_final (1).mp4: 640x384 1 paper, 363.0ms\n",
            "video 1/1 (frame 278/437) /content/video_final (1).mp4: 640x384 1 paper, 362.0ms\n",
            "video 1/1 (frame 279/437) /content/video_final (1).mp4: 640x384 1 paper, 344.9ms\n",
            "video 1/1 (frame 280/437) /content/video_final (1).mp4: 640x384 1 paper, 371.9ms\n",
            "video 1/1 (frame 281/437) /content/video_final (1).mp4: 640x384 1 paper, 349.3ms\n",
            "video 1/1 (frame 282/437) /content/video_final (1).mp4: 640x384 1 paper, 338.4ms\n",
            "video 1/1 (frame 283/437) /content/video_final (1).mp4: 640x384 1 paper, 361.5ms\n",
            "video 1/1 (frame 284/437) /content/video_final (1).mp4: 640x384 1 paper, 358.7ms\n",
            "video 1/1 (frame 285/437) /content/video_final (1).mp4: 640x384 1 paper, 343.2ms\n",
            "video 1/1 (frame 286/437) /content/video_final (1).mp4: 640x384 1 paper, 372.3ms\n",
            "video 1/1 (frame 287/437) /content/video_final (1).mp4: 640x384 1 paper, 352.2ms\n",
            "video 1/1 (frame 288/437) /content/video_final (1).mp4: 640x384 1 paper, 355.8ms\n",
            "video 1/1 (frame 289/437) /content/video_final (1).mp4: 640x384 1 paper, 443.6ms\n",
            "video 1/1 (frame 290/437) /content/video_final (1).mp4: 640x384 1 paper, 558.8ms\n",
            "video 1/1 (frame 291/437) /content/video_final (1).mp4: 640x384 1 paper, 525.0ms\n",
            "video 1/1 (frame 292/437) /content/video_final (1).mp4: 640x384 1 paper, 544.7ms\n",
            "video 1/1 (frame 293/437) /content/video_final (1).mp4: 640x384 1 paper, 541.3ms\n",
            "video 1/1 (frame 294/437) /content/video_final (1).mp4: 640x384 1 paper, 554.5ms\n",
            "video 1/1 (frame 295/437) /content/video_final (1).mp4: 640x384 1 paper, 557.0ms\n",
            "video 1/1 (frame 296/437) /content/video_final (1).mp4: 640x384 1 paper, 400.3ms\n",
            "video 1/1 (frame 297/437) /content/video_final (1).mp4: 640x384 1 paper, 339.1ms\n",
            "video 1/1 (frame 298/437) /content/video_final (1).mp4: 640x384 1 paper, 358.5ms\n",
            "video 1/1 (frame 299/437) /content/video_final (1).mp4: 640x384 1 paper, 369.7ms\n",
            "video 1/1 (frame 300/437) /content/video_final (1).mp4: 640x384 1 paper, 343.6ms\n",
            "video 1/1 (frame 301/437) /content/video_final (1).mp4: 640x384 1 paper, 350.4ms\n",
            "video 1/1 (frame 302/437) /content/video_final (1).mp4: 640x384 1 paper, 372.9ms\n",
            "video 1/1 (frame 303/437) /content/video_final (1).mp4: 640x384 1 paper, 337.9ms\n",
            "video 1/1 (frame 304/437) /content/video_final (1).mp4: 640x384 1 paper, 351.0ms\n",
            "video 1/1 (frame 305/437) /content/video_final (1).mp4: 640x384 1 paper, 368.1ms\n",
            "video 1/1 (frame 306/437) /content/video_final (1).mp4: 640x384 1 paper, 336.0ms\n",
            "video 1/1 (frame 307/437) /content/video_final (1).mp4: 640x384 1 paper, 357.5ms\n",
            "video 1/1 (frame 308/437) /content/video_final (1).mp4: 640x384 1 paper, 363.3ms\n",
            "video 1/1 (frame 309/437) /content/video_final (1).mp4: 640x384 1 paper, 339.4ms\n",
            "video 1/1 (frame 310/437) /content/video_final (1).mp4: 640x384 1 paper, 379.5ms\n",
            "video 1/1 (frame 311/437) /content/video_final (1).mp4: 640x384 1 paper, 347.0ms\n",
            "video 1/1 (frame 312/437) /content/video_final (1).mp4: 640x384 1 paper, 346.5ms\n",
            "video 1/1 (frame 313/437) /content/video_final (1).mp4: 640x384 1 paper, 371.6ms\n",
            "video 1/1 (frame 314/437) /content/video_final (1).mp4: 640x384 1 paper, 350.5ms\n",
            "video 1/1 (frame 315/437) /content/video_final (1).mp4: 640x384 1 paper, 340.1ms\n",
            "video 1/1 (frame 316/437) /content/video_final (1).mp4: 640x384 1 paper, 363.9ms\n",
            "video 1/1 (frame 317/437) /content/video_final (1).mp4: 640x384 1 paper, 348.1ms\n",
            "video 1/1 (frame 318/437) /content/video_final (1).mp4: 640x384 1 paper, 341.9ms\n",
            "video 1/1 (frame 319/437) /content/video_final (1).mp4: 640x384 1 paper, 373.3ms\n",
            "video 1/1 (frame 320/437) /content/video_final (1).mp4: 640x384 1 paper, 356.2ms\n",
            "video 1/1 (frame 321/437) /content/video_final (1).mp4: 640x384 1 paper, 351.7ms\n",
            "video 1/1 (frame 322/437) /content/video_final (1).mp4: 640x384 1 paper, 376.7ms\n",
            "video 1/1 (frame 323/437) /content/video_final (1).mp4: 640x384 1 paper, 535.4ms\n",
            "video 1/1 (frame 324/437) /content/video_final (1).mp4: 640x384 (no detections), 543.4ms\n",
            "video 1/1 (frame 325/437) /content/video_final (1).mp4: 640x384 (no detections), 559.4ms\n",
            "video 1/1 (frame 326/437) /content/video_final (1).mp4: 640x384 (no detections), 576.5ms\n",
            "video 1/1 (frame 327/437) /content/video_final (1).mp4: 640x384 1 cardboard, 533.0ms\n",
            "video 1/1 (frame 328/437) /content/video_final (1).mp4: 640x384 1 cardboard, 531.5ms\n",
            "video 1/1 (frame 329/437) /content/video_final (1).mp4: 640x384 (no detections), 495.9ms\n",
            "video 1/1 (frame 330/437) /content/video_final (1).mp4: 640x384 (no detections), 346.7ms\n",
            "video 1/1 (frame 331/437) /content/video_final (1).mp4: 640x384 1 cardboard, 335.8ms\n",
            "video 1/1 (frame 332/437) /content/video_final (1).mp4: 640x384 (no detections), 373.6ms\n",
            "video 1/1 (frame 333/437) /content/video_final (1).mp4: 640x384 (no detections), 348.7ms\n",
            "video 1/1 (frame 334/437) /content/video_final (1).mp4: 640x384 (no detections), 342.5ms\n",
            "video 1/1 (frame 335/437) /content/video_final (1).mp4: 640x384 1 cardboard, 352.0ms\n",
            "video 1/1 (frame 336/437) /content/video_final (1).mp4: 640x384 1 cardboard, 351.6ms\n",
            "video 1/1 (frame 337/437) /content/video_final (1).mp4: 640x384 (no detections), 338.2ms\n",
            "video 1/1 (frame 338/437) /content/video_final (1).mp4: 640x384 (no detections), 352.3ms\n",
            "video 1/1 (frame 339/437) /content/video_final (1).mp4: 640x384 (no detections), 346.8ms\n",
            "video 1/1 (frame 340/437) /content/video_final (1).mp4: 640x384 (no detections), 327.9ms\n",
            "video 1/1 (frame 341/437) /content/video_final (1).mp4: 640x384 (no detections), 342.2ms\n",
            "video 1/1 (frame 342/437) /content/video_final (1).mp4: 640x384 (no detections), 334.3ms\n",
            "video 1/1 (frame 343/437) /content/video_final (1).mp4: 640x384 (no detections), 329.8ms\n",
            "video 1/1 (frame 344/437) /content/video_final (1).mp4: 640x384 (no detections), 346.8ms\n",
            "video 1/1 (frame 345/437) /content/video_final (1).mp4: 640x384 1 cardboard, 339.3ms\n",
            "video 1/1 (frame 346/437) /content/video_final (1).mp4: 640x384 1 cardboard, 343.5ms\n",
            "video 1/1 (frame 347/437) /content/video_final (1).mp4: 640x384 1 cardboard, 355.7ms\n",
            "video 1/1 (frame 348/437) /content/video_final (1).mp4: 640x384 (no detections), 331.8ms\n",
            "video 1/1 (frame 349/437) /content/video_final (1).mp4: 640x384 1 plastic, 348.6ms\n",
            "video 1/1 (frame 350/437) /content/video_final (1).mp4: 640x384 (no detections), 370.3ms\n",
            "video 1/1 (frame 351/437) /content/video_final (1).mp4: 640x384 1 paper, 351.6ms\n",
            "video 1/1 (frame 352/437) /content/video_final (1).mp4: 640x384 1 paper, 343.2ms\n",
            "video 1/1 (frame 353/437) /content/video_final (1).mp4: 640x384 (no detections), 364.3ms\n",
            "video 1/1 (frame 354/437) /content/video_final (1).mp4: 640x384 (no detections), 341.1ms\n",
            "video 1/1 (frame 355/437) /content/video_final (1).mp4: 640x384 1 cardboard, 1 paper, 356.6ms\n",
            "video 1/1 (frame 356/437) /content/video_final (1).mp4: 640x384 1 cardboard, 1 paper, 343.4ms\n",
            "video 1/1 (frame 357/437) /content/video_final (1).mp4: 640x384 1 paper, 435.2ms\n",
            "video 1/1 (frame 358/437) /content/video_final (1).mp4: 640x384 (no detections), 565.7ms\n",
            "video 1/1 (frame 359/437) /content/video_final (1).mp4: 640x384 (no detections), 548.5ms\n",
            "video 1/1 (frame 360/437) /content/video_final (1).mp4: 640x384 (no detections), 545.1ms\n",
            "video 1/1 (frame 361/437) /content/video_final (1).mp4: 640x384 (no detections), 559.9ms\n",
            "video 1/1 (frame 362/437) /content/video_final (1).mp4: 640x384 (no detections), 572.0ms\n",
            "video 1/1 (frame 363/437) /content/video_final (1).mp4: 640x384 (no detections), 535.7ms\n",
            "video 1/1 (frame 364/437) /content/video_final (1).mp4: 640x384 1 cardboard, 371.3ms\n",
            "video 1/1 (frame 365/437) /content/video_final (1).mp4: 640x384 (no detections), 354.9ms\n",
            "video 1/1 (frame 366/437) /content/video_final (1).mp4: 640x384 (no detections), 355.8ms\n",
            "video 1/1 (frame 367/437) /content/video_final (1).mp4: 640x384 (no detections), 355.5ms\n",
            "video 1/1 (frame 368/437) /content/video_final (1).mp4: 640x384 (no detections), 357.6ms\n",
            "video 1/1 (frame 369/437) /content/video_final (1).mp4: 640x384 (no detections), 356.6ms\n",
            "video 1/1 (frame 370/437) /content/video_final (1).mp4: 640x384 (no detections), 343.8ms\n",
            "video 1/1 (frame 371/437) /content/video_final (1).mp4: 640x384 (no detections), 360.1ms\n",
            "video 1/1 (frame 372/437) /content/video_final (1).mp4: 640x384 (no detections), 357.0ms\n",
            "video 1/1 (frame 373/437) /content/video_final (1).mp4: 640x384 (no detections), 348.9ms\n",
            "video 1/1 (frame 374/437) /content/video_final (1).mp4: 640x384 1 paper, 355.4ms\n",
            "video 1/1 (frame 375/437) /content/video_final (1).mp4: 640x384 (no detections), 358.0ms\n",
            "video 1/1 (frame 376/437) /content/video_final (1).mp4: 640x384 (no detections), 356.9ms\n",
            "video 1/1 (frame 377/437) /content/video_final (1).mp4: 640x384 1 paper, 351.6ms\n",
            "video 1/1 (frame 378/437) /content/video_final (1).mp4: 640x384 1 paper, 352.5ms\n",
            "video 1/1 (frame 379/437) /content/video_final (1).mp4: 640x384 1 paper, 348.4ms\n",
            "video 1/1 (frame 380/437) /content/video_final (1).mp4: 640x384 2 papers, 366.2ms\n",
            "video 1/1 (frame 381/437) /content/video_final (1).mp4: 640x384 1 paper, 342.2ms\n",
            "video 1/1 (frame 382/437) /content/video_final (1).mp4: 640x384 1 paper, 356.2ms\n",
            "video 1/1 (frame 383/437) /content/video_final (1).mp4: 640x384 (no detections), 370.0ms\n",
            "video 1/1 (frame 384/437) /content/video_final (1).mp4: 640x384 (no detections), 339.1ms\n",
            "video 1/1 (frame 385/437) /content/video_final (1).mp4: 640x384 1 cardboard, 348.5ms\n",
            "video 1/1 (frame 386/437) /content/video_final (1).mp4: 640x384 1 cardboard, 362.7ms\n",
            "video 1/1 (frame 387/437) /content/video_final (1).mp4: 640x384 (no detections), 339.7ms\n",
            "video 1/1 (frame 388/437) /content/video_final (1).mp4: 640x384 (no detections), 341.7ms\n",
            "video 1/1 (frame 389/437) /content/video_final (1).mp4: 640x384 (no detections), 369.3ms\n",
            "video 1/1 (frame 390/437) /content/video_final (1).mp4: 640x384 (no detections), 349.1ms\n",
            "video 1/1 (frame 391/437) /content/video_final (1).mp4: 640x384 (no detections), 510.7ms\n",
            "video 1/1 (frame 392/437) /content/video_final (1).mp4: 640x384 1 cardboard, 555.5ms\n",
            "video 1/1 (frame 393/437) /content/video_final (1).mp4: 640x384 1 cardboard, 558.6ms\n",
            "video 1/1 (frame 394/437) /content/video_final (1).mp4: 640x384 1 cardboard, 554.0ms\n",
            "video 1/1 (frame 395/437) /content/video_final (1).mp4: 640x384 1 cardboard, 555.1ms\n",
            "video 1/1 (frame 396/437) /content/video_final (1).mp4: 640x384 1 cardboard, 562.9ms\n",
            "video 1/1 (frame 397/437) /content/video_final (1).mp4: 640x384 1 cardboard, 527.2ms\n",
            "video 1/1 (frame 398/437) /content/video_final (1).mp4: 640x384 1 cardboard, 357.6ms\n",
            "video 1/1 (frame 399/437) /content/video_final (1).mp4: 640x384 1 cardboard, 347.5ms\n",
            "video 1/1 (frame 400/437) /content/video_final (1).mp4: 640x384 1 cardboard, 370.4ms\n",
            "video 1/1 (frame 401/437) /content/video_final (1).mp4: 640x384 2 cardboards, 352.3ms\n",
            "video 1/1 (frame 402/437) /content/video_final (1).mp4: 640x384 1 cardboard, 349.4ms\n",
            "video 1/1 (frame 403/437) /content/video_final (1).mp4: 640x384 1 cardboard, 358.1ms\n",
            "video 1/1 (frame 404/437) /content/video_final (1).mp4: 640x384 1 cardboard, 349.1ms\n",
            "video 1/1 (frame 405/437) /content/video_final (1).mp4: 640x384 1 cardboard, 362.0ms\n",
            "video 1/1 (frame 406/437) /content/video_final (1).mp4: 640x384 1 cardboard, 352.6ms\n",
            "video 1/1 (frame 407/437) /content/video_final (1).mp4: 640x384 1 cardboard, 355.4ms\n",
            "video 1/1 (frame 408/437) /content/video_final (1).mp4: 640x384 1 cardboard, 356.6ms\n",
            "video 1/1 (frame 409/437) /content/video_final (1).mp4: 640x384 1 cardboard, 354.8ms\n",
            "video 1/1 (frame 410/437) /content/video_final (1).mp4: 640x384 1 cardboard, 352.4ms\n",
            "video 1/1 (frame 411/437) /content/video_final (1).mp4: 640x384 1 cardboard, 355.8ms\n",
            "video 1/1 (frame 412/437) /content/video_final (1).mp4: 640x384 1 cardboard, 350.0ms\n",
            "video 1/1 (frame 413/437) /content/video_final (1).mp4: 640x384 1 cardboard, 360.6ms\n",
            "video 1/1 (frame 414/437) /content/video_final (1).mp4: 640x384 1 cardboard, 350.1ms\n",
            "video 1/1 (frame 415/437) /content/video_final (1).mp4: 640x384 1 cardboard, 350.7ms\n",
            "video 1/1 (frame 416/437) /content/video_final (1).mp4: 640x384 1 cardboard, 367.5ms\n",
            "video 1/1 (frame 417/437) /content/video_final (1).mp4: 640x384 1 cardboard, 335.2ms\n",
            "video 1/1 (frame 418/437) /content/video_final (1).mp4: 640x384 1 cardboard, 352.6ms\n",
            "video 1/1 (frame 419/437) /content/video_final (1).mp4: 640x384 1 cardboard, 372.6ms\n",
            "video 1/1 (frame 420/437) /content/video_final (1).mp4: 640x384 1 cardboard, 335.9ms\n",
            "video 1/1 (frame 421/437) /content/video_final (1).mp4: 640x384 1 cardboard, 354.4ms\n",
            "video 1/1 (frame 422/437) /content/video_final (1).mp4: 640x384 1 cardboard, 367.9ms\n",
            "video 1/1 (frame 423/437) /content/video_final (1).mp4: 640x384 1 cardboard, 337.4ms\n",
            "video 1/1 (frame 424/437) /content/video_final (1).mp4: 640x384 1 cardboard, 394.3ms\n",
            "video 1/1 (frame 425/437) /content/video_final (1).mp4: 640x384 1 cardboard, 563.2ms\n",
            "video 1/1 (frame 426/437) /content/video_final (1).mp4: 640x384 1 cardboard, 530.5ms\n",
            "video 1/1 (frame 427/437) /content/video_final (1).mp4: 640x384 1 cardboard, 559.3ms\n",
            "video 1/1 (frame 428/437) /content/video_final (1).mp4: 640x384 1 cardboard, 547.4ms\n",
            "video 1/1 (frame 429/437) /content/video_final (1).mp4: 640x384 1 cardboard, 531.5ms\n",
            "video 1/1 (frame 430/437) /content/video_final (1).mp4: 640x384 1 cardboard, 579.4ms\n",
            "video 1/1 (frame 431/437) /content/video_final (1).mp4: 640x384 1 cardboard, 421.2ms\n",
            "video 1/1 (frame 432/437) /content/video_final (1).mp4: 640x384 1 cardboard, 340.8ms\n",
            "video 1/1 (frame 433/437) /content/video_final (1).mp4: 640x384 1 cardboard, 374.8ms\n",
            "video 1/1 (frame 434/437) /content/video_final (1).mp4: 640x384 1 cardboard, 353.3ms\n",
            "video 1/1 (frame 435/437) /content/video_final (1).mp4: 640x384 1 cardboard, 346.3ms\n",
            "video 1/1 (frame 436/437) /content/video_final (1).mp4: 640x384 1 cardboard, 368.8ms\n",
            "video 1/1 (frame 437/437) /content/video_final (1).mp4: 640x384 1 cardboard, 352.8ms\n",
            "Speed: 3.7ms preprocess, 394.9ms inference, 1.1ms postprocess per image at shape (1, 3, 640, 384)\n",
            "Results saved to \u001b[1mruns/detect/predict\u001b[0m\n"
          ]
        }
      ]
    },
    {
      "cell_type": "code",
      "source": [
        "!ls runs/detect/predict"
      ],
      "metadata": {
        "colab": {
          "base_uri": "https://localhost:8080/"
        },
        "id": "XPxB7e6LYk2Y",
        "outputId": "5160e8db-5d4c-4a64-a8ce-363ff3a3da8c"
      },
      "execution_count": 19,
      "outputs": [
        {
          "output_type": "stream",
          "name": "stdout",
          "text": [
            "'video_final (1).avi'\n"
          ]
        }
      ]
    },
    {
      "cell_type": "code",
      "source": [
        "from google.colab import files\n",
        "files.download(\"runs/detect/predict/video_final (1).avi\")"
      ],
      "metadata": {
        "colab": {
          "base_uri": "https://localhost:8080/",
          "height": 17
        },
        "id": "02E1PtCTYmlt",
        "outputId": "1fdda4be-8ff7-47db-c110-47c8f6a20a83"
      },
      "execution_count": 21,
      "outputs": [
        {
          "output_type": "display_data",
          "data": {
            "text/plain": [
              "<IPython.core.display.Javascript object>"
            ],
            "application/javascript": [
              "\n",
              "    async function download(id, filename, size) {\n",
              "      if (!google.colab.kernel.accessAllowed) {\n",
              "        return;\n",
              "      }\n",
              "      const div = document.createElement('div');\n",
              "      const label = document.createElement('label');\n",
              "      label.textContent = `Downloading \"${filename}\": `;\n",
              "      div.appendChild(label);\n",
              "      const progress = document.createElement('progress');\n",
              "      progress.max = size;\n",
              "      div.appendChild(progress);\n",
              "      document.body.appendChild(div);\n",
              "\n",
              "      const buffers = [];\n",
              "      let downloaded = 0;\n",
              "\n",
              "      const channel = await google.colab.kernel.comms.open(id);\n",
              "      // Send a message to notify the kernel that we're ready.\n",
              "      channel.send({})\n",
              "\n",
              "      for await (const message of channel.messages) {\n",
              "        // Send a message to notify the kernel that we're ready.\n",
              "        channel.send({})\n",
              "        if (message.buffers) {\n",
              "          for (const buffer of message.buffers) {\n",
              "            buffers.push(buffer);\n",
              "            downloaded += buffer.byteLength;\n",
              "            progress.value = downloaded;\n",
              "          }\n",
              "        }\n",
              "      }\n",
              "      const blob = new Blob(buffers, {type: 'application/binary'});\n",
              "      const a = document.createElement('a');\n",
              "      a.href = window.URL.createObjectURL(blob);\n",
              "      a.download = filename;\n",
              "      div.appendChild(a);\n",
              "      a.click();\n",
              "      div.remove();\n",
              "    }\n",
              "  "
            ]
          },
          "metadata": {}
        },
        {
          "output_type": "display_data",
          "data": {
            "text/plain": [
              "<IPython.core.display.Javascript object>"
            ],
            "application/javascript": [
              "download(\"download_0f58c8c5-5231-4621-abbf-92f3cd9afd4e\", \"video_final (1).avi\", 18308908)"
            ]
          },
          "metadata": {}
        }
      ]
    }
  ],
  "metadata": {
    "accelerator": "GPU",
    "colab": {
      "gpuType": "T4",
      "provenance": []
    },
    "kernelspec": {
      "display_name": "Python 3",
      "name": "python3"
    },
    "language_info": {
      "name": "python"
    }
  },
  "nbformat": 4,
  "nbformat_minor": 0
}
